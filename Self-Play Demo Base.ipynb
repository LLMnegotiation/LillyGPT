{
 "cells": [
  {
   "cell_type": "markdown",
   "id": "b5c1203e-ea56-4160-9436-f29980a39a19",
   "metadata": {},
   "source": [
    "#Sources\n",
    "- Chat Bubbles CSS\n",
    "    - https://chatableapps.com/technology/coding-css-chat-bubbles-a-step-by-step-guide-to-creating-stylish-chat-interfaces/\n",
    "- generators\n",
    "    - https://docs.python.org/3/tutorial/classes.html\n",
    "- gradio\n",
    "    - https://www.machinelearningnuggets.com/gradio-tutorial/\n",
    "- html\n",
    "    - https://borstch.com/snippet/negotiation-simulation-game"
   ]
  },
  {
   "cell_type": "code",
   "execution_count": null,
   "id": "5c05c414-fc3b-42c0-83bb-2794ae249ac3",
   "metadata": {},
   "outputs": [],
   "source": [
    "\"5b324421-c65f-4fac-b7ff-fee5be1a1064\""
   ]
  },
  {
   "cell_type": "code",
   "execution_count": 19,
   "id": "c24688d9-4147-4207-9790-8c086d2680e3",
   "metadata": {},
   "outputs": [
    {
     "name": "stdout",
     "output_type": "stream",
     "text": [
      "* Running on local URL:  http://127.0.0.1:7877\n",
      "\n",
      "To create a public link, set `share=True` in `launch()`.\n"
     ]
    },
    {
     "data": {
      "text/html": [
       "<div><iframe src=\"http://127.0.0.1:7877/\" width=\"100%\" height=\"500\" allow=\"autoplay; camera; microphone; clipboard-read; clipboard-write;\" frameborder=\"0\" allowfullscreen></iframe></div>"
      ],
      "text/plain": [
       "<IPython.core.display.HTML object>"
      ]
     },
     "metadata": {},
     "output_type": "display_data"
    },
    {
     "data": {
      "text/plain": []
     },
     "execution_count": 19,
     "metadata": {},
     "output_type": "execute_result"
    }
   ],
   "source": [
    "import gradio as gr\n",
    "import json\n",
    "import time\n",
    "import os\n",
    "import random\n",
    "\n",
    "# Load the file and get the simulations\n",
    "def load_conversations(file_path):\n",
    "    if not os.path.exists(file_path):\n",
    "        raise FileNotFoundError(f\"The file {file_path} does not exist.\")\n",
    "    conversations = []\n",
    "    with open(file_path, 'r', encoding='utf-8') as f:\n",
    "        for line in f:\n",
    "            conversations.append(json.loads(line))\n",
    "    return conversations\n",
    "\n",
    "# JSONL file\n",
    "negotiation_chat_file = r\"C:\\Users\\Claire Personal\\OneDrive - Saint Mary's College of California/Final Deliverables/Demo/negotiation_finetune_data_base.jsonl\"\n",
    "conversations = load_conversations(negotiation_chat_file)\n",
    "\n",
    "# Set of used conversation IDs to avoid repetition\n",
    "used_conversation_ids = set()\n",
    "stop_simulation = False  # Flag to stop the simulation\n",
    "current_conversation_id = None  # Track the current conversation being simulated\n",
    "\n",
    "# Exclusion list: Conversations to skip\n",
    "excluded_conversation_ids = {\"5b324421-c65f-4fac-b7ff-fee5be1a1064\"}\n",
    "\n",
    "# Retrieve a random conversation ID that hasn't been used and isn't excluded\n",
    "def get_random_unused_conversation():\n",
    "    global used_conversation_ids\n",
    "\n",
    "    # Reset used IDs if all valid conversations have been simulated\n",
    "    valid_conversations = [\n",
    "        convo for convo in conversations \n",
    "        if convo.get('ConversationID') not in used_conversation_ids \n",
    "        and convo.get('ConversationID') not in excluded_conversation_ids\n",
    "    ]\n",
    "\n",
    "    if not valid_conversations:\n",
    "        used_conversation_ids.clear()\n",
    "        print(\"All valid conversations have been simulated. Resetting the used list.\")\n",
    "        valid_conversations = [\n",
    "            convo for convo in conversations \n",
    "            if convo.get('ConversationID') not in excluded_conversation_ids\n",
    "        ]\n",
    "    \n",
    "    # Select a random conversation\n",
    "    selected_conversation = random.choice(valid_conversations)\n",
    "    return selected_conversation\n",
    "\n",
    "# Run the selected negotiation/simulation of self-play\n",
    "def simulate_conversation():\n",
    "    global stop_simulation, current_conversation_id, used_conversation_ids\n",
    "    stop_simulation = False  # Reset the stop flag when starting a new simulation\n",
    "    \n",
    "    selected_conversation = get_random_unused_conversation()\n",
    "    current_conversation_id = selected_conversation.get('ConversationID')\n",
    "    used_conversation_ids.add(current_conversation_id)  # Mark it as used immediately\n",
    "    messages = selected_conversation.get('Negotiation', [])\n",
    "    \n",
    "    if not messages:\n",
    "        yield f\"<div>No messages found for Conversation ID: {current_conversation_id}</div>\"\n",
    "        return\n",
    "\n",
    "    chat_html = f\"<div>Simulation ID: {current_conversation_id}</div><br>\"\n",
    "    for msg in messages:\n",
    "        if stop_simulation:\n",
    "            yield gr.update(value=\"<div>Simulation interrupted. Click 'Start Simulation' to start a new one.</div>\")\n",
    "            return\n",
    "        \n",
    "        # Create message bubbles\n",
    "        if msg['role'] == \"Employee\":\n",
    "            chat_html += f\"\"\"\n",
    "            <div style=\"text-align: left; margin: 15px;\">\n",
    "                <div style=\"display: inline-block; padding: 10px; border-radius: 10px; \n",
    "                            background-color: #d1f4ff; max-width: 60%; font-size: 30px;\">\n",
    "                    <b>{msg['role']}</b>: {msg['content']}\n",
    "                </div>\n",
    "            </div>\n",
    "            \"\"\"\n",
    "        elif msg['role'] == \"HR Manager\":\n",
    "            chat_html += f\"\"\"\n",
    "            <div style=\"text-align: right; margin: 15px;\">\n",
    "                <div style=\"display: inline-block; padding: 10px; border-radius: 10px; \n",
    "                            background-color: #e6ffe6; max-width: 60%; font-size: 30px;\">\n",
    "                    <b>{msg['role']}</b>: {msg['content']}\n",
    "                </div>\n",
    "            </div>\n",
    "            \"\"\"\n",
    "\n",
    "        # Yield the updated chat state to the UI\n",
    "        yield gr.update(value=chat_html)\n",
    "        time.sleep(2.5)  # Adjustable delay\n",
    "\n",
    "    # After all messages have been displayed, show simulation has ended\n",
    "    chat_html += \"\"\"\n",
    "    <div style=\"text-align: center; margin: 20px; font-size: 15px;\">\n",
    "        Negotiation simulation ended.\n",
    "    </div>\n",
    "    \"\"\"\n",
    "    yield gr.update(value=chat_html)\n",
    "\n",
    "# Function to stop the simulation\n",
    "def stop_current_simulation():\n",
    "    \"\"\"Set the stop_simulation flag to True.\"\"\"\n",
    "    global stop_simulation\n",
    "    stop_simulation = True\n",
    "    return \"<div>Simulation interrupted. Click 'Start Simulation' to start a new one.</div>\"\n",
    "\n",
    "# Gradio UI\n",
    "with gr.Blocks() as demo:\n",
    "    gr.Markdown(\"## Self-Play Negotiation Simulation Demo\")\n",
    "    gr.Markdown(\"Click 'Start Simulation' to begin the simulation or 'Stop Simulation' to interrupt it.\")\n",
    "    \n",
    "    start_button = gr.Button(\"Start Simulation\")\n",
    "    stop_button = gr.Button(\"Stop Simulation\")\n",
    "    output_box = gr.HTML(label=\"Live Chat Simulation\")\n",
    "\n",
    "    # Trigger live conversation simulation\n",
    "    start_button.click(simulate_conversation, inputs=None, outputs=output_box)\n",
    "    stop_button.click(stop_current_simulation, inputs=None, outputs=output_box)\n",
    "\n",
    "# Launch the Gradio interface\n",
    "demo.launch()\n"
   ]
  }
 ],
 "metadata": {
  "kernelspec": {
   "display_name": "Python 3 (ipykernel)",
   "language": "python",
   "name": "python3"
  },
  "language_info": {
   "codemirror_mode": {
    "name": "ipython",
    "version": 3
   },
   "file_extension": ".py",
   "mimetype": "text/x-python",
   "name": "python",
   "nbconvert_exporter": "python",
   "pygments_lexer": "ipython3",
   "version": "3.11.4"
  }
 },
 "nbformat": 4,
 "nbformat_minor": 5
}
