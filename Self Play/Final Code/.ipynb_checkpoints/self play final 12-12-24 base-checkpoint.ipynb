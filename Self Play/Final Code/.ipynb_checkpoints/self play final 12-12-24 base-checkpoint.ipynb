{
 "cells": [
  {
   "cell_type": "code",
   "execution_count": 1,
   "id": "2208c336-369b-48f6-b6b3-a946ac2aa88f",
   "metadata": {},
   "outputs": [
    {
     "name": "stderr",
     "output_type": "stream",
     "text": [
      "C:\\Users\\Claire Personal\\AppData\\Roaming\\Python\\Python311\\site-packages\\sentence_transformers\\cross_encoder\\CrossEncoder.py:13: TqdmExperimentalWarning: Using `tqdm.autonotebook.tqdm` in notebook mode. Use `tqdm.tqdm` instead to force console mode (e.g. in jupyter console)\n",
      "  from tqdm.autonotebook import tqdm, trange\n"
     ]
    },
    {
     "name": "stdout",
     "output_type": "stream",
     "text": [
      "WARNING:tensorflow:From C:\\Users\\Claire Personal\\AppData\\Roaming\\Python\\Python311\\site-packages\\tf_keras\\src\\losses.py:2976: The name tf.losses.sparse_softmax_cross_entropy is deprecated. Please use tf.compat.v1.losses.sparse_softmax_cross_entropy instead.\n",
      "\n"
     ]
    },
    {
     "name": "stderr",
     "output_type": "stream",
     "text": [
      "[nltk_data] Downloading package punkt to C:\\Users\\Claire\n",
      "[nltk_data]     Personal\\AppData\\Roaming\\nltk_data...\n",
      "[nltk_data]   Package punkt is already up-to-date!\n",
      "[nltk_data] Downloading package wordnet to C:\\Users\\Claire\n",
      "[nltk_data]     Personal\\AppData\\Roaming\\nltk_data...\n",
      "[nltk_data]   Package wordnet is already up-to-date!\n"
     ]
    }
   ],
   "source": [
    "import uuid # for conversation id\n",
    "from nltk.sentiment.vader import SentimentIntensityAnalyzer\n",
    "from sentence_transformers import SentenceTransformer, util\n",
    "from datetime import datetime\n",
    "import openai\n",
    "import random\n",
    "import csv\n",
    "import datetime\n",
    "import time\n",
    "import numpy as np\n",
    "import pandas as pd\n",
    "import os\n",
    "import json\n",
    "import re\n",
    "\n",
    "\n",
    "#RAG \n",
    "from langchain.document_loaders import PyPDFLoader\n",
    "from langchain.text_splitter import RecursiveCharacterTextSplitter \n",
    "#Incorporating langchain for easier integration and embedding document chunks into FAISS vector\n",
    "#Rationale More Efficiency \n",
    "from langchain.embeddings import SentenceTransformerEmbeddings\n",
    "from langchain.vectorstores import FAISS\n",
    "from langchain_huggingface import HuggingFaceEmbeddings\n",
    "\n",
    "\n",
    "#Metrics\n",
    "from nltk.translate.bleu_score import corpus_bleu, SmoothingFunction\n",
    "from rouge import Rouge \n",
    "from bert_score import score as bert_score\n",
    "from nltk.translate.meteor_score import meteor_score \n",
    "from nltk.tokenize import word_tokenize  #Import for tokenizing\n",
    "from nltk.tokenize import TreebankWordTokenizer\n",
    "from rouge_score import rouge_scorer\n",
    "import nltk\n",
    "nltk.download('punkt')\n",
    "nltk.download('wordnet')\n",
    "from transformers import pipeline\n",
    "import gradio as gr"
   ]
  },
  {
   "cell_type": "code",
   "execution_count": 3,
   "id": "e8a1cd2b-cf35-4ea4-8aec-8618a76b1a68",
   "metadata": {
    "scrolled": true
   },
   "outputs": [
    {
     "name": "stdout",
     "output_type": "stream",
     "text": [
      "Processed file: 62 Business English Negotiation Phrases _ FluentU.pdf with 23 chunks.\n",
      "Processed file: business-english-negotiations-jigsaw-dialogues-and-useful-phrases.pdf with 6 chunks.\n",
      "Processed file: main_negotiations.pdf with 93 chunks.\n",
      "Processed file: Transcript Example.pdf with 9 chunks.\n",
      "Turn 1 (HR Manager):\n",
      "We value your contributions and are committed to finding a solution that reflects your role and contributions adequately. While the current offer stands at $134,000, we can explore alternative ways to enhance your overall compensation package. One option could be to implement a phased raise, where we increase your salary incrementally over the next year to move closer to your desired figure. Additionally, we can consider a performancebased bonus structure that rewards your achievements and contributions on a quarterly basis. Furthermore, we could enhance your package with nonmonetary benefits such as additional paid time off, professional development opportunities, or flexible working arrangements to better align with your personal and professional goals. Let's discuss these options further and find a path that works best for both you and the company\n",
      "Extracted Matches: ['$134,000']\n",
      "No keywords matched. Using first extracted match as fallback: $134,000\n",
      "Turn 2 (Employee):\n",
      "To find a mutually beneficial solution, I propose the following: 1. Phased Raise: Let's implement a phased raise with specific milestones tied to performance reviews. This will ensure my salary gradually reaches $148,100 over the next year, aligning with market standards. 2. PerformanceBased Bonus: Introduce a quarterly performancebased bonus structure that could potentially add up to 10% of my current salary annually. This would incentivize high performance and align my contributions with company goals. 3. Stock Options: Consider offering stock options as part of my compensation. This aligns my success directly with the company’s success and provides longterm incentive. 4. Enhanced Benefits: Increase my paid time off by five days per year and provide a stipend for professional development courses. This would support my growth and ensure I continue adding value to the company. Let's work together to create a package that is both motivating and fair, ensuring\n",
      "Extracted Matches: ['$148,100']\n",
      "No keywords matched. Using first extracted match as fallback: $148,100\n",
      "Turn 3 (HR Manager):\n",
      "We are eager to find a solution that recognizes your contributions while aligning with our compensation framework. Here's how we can proceed: 1. Phased Raise and Milestones: We can agree to a phased raise with clear performance milestones. This will allow us to incrementally adjust your salary, aiming for your target within the next year, contingent upon meeting agreedupon performance criteria. 2. PerformanceBased Bonus: We can initiate a quarterly bonus structure. Let's discuss setting realistic targets that, upon achievement, can grant bonuses up to 10% of your current salary. This would be an effective way to reward exceptional performance and align your efforts with our strategic goals. 3. Stock Options: Offering stock options is a feasible way to align your interests with the company's longterm success. We can explore a stock option plan that ties your achievements to the company’s growth, providing a vested interest in our shared success. 4. Enhanced Benefits: We\n",
      "Turn 4 (Employee):\n",
      "To further refine our approach, I suggest the following: 1. Accelerated Phased Raise: Let's set an accelerated timeline for the phased raise, ensuring we hit the $148,100 target within nine months instead of a year. This shows a strong commitment to recognizing my contributions swiftly. 2. PerformanceBased Bonus: To ensure the bonus structure is 3. Stock Option Vesting: I propose a shorter vesting period for stock options, perhaps three years instead of the typical four, to enhance the immediate value and motivation for driving company growth. 4. Enhanced Benefits: In addition to the increased paid time off and professional development stipend, consider introducing a wellness allowance that can be used\n",
      "Extracted Matches: ['$148,100']\n",
      "No keywords matched. Using first extracted match as fallback: $148,100\n",
      "Turn 5 (HR Manager):\n",
      "Let's explore additional ways to tailor a compensation package that addresses your priorities while aligning with our company’s framework: 1. Accelerated Phased Raise: While an accelerated timeline is ambitious, we can consider an alternative where the initial phases of the raise are more substantial, achieving the $148,100 target within nine months, contingent on meeting performance goals. 2. PerformanceBased Bonus: To enhance the bonus structure, we can incorporate a tiered incentive system where achieving higher performance metrics results in proportionally higher bonuses, offering greater potential rewards for exceptional contributions. 3. Stock Option Vesting: A shorter vesting period can indeed provide immediate motivation. We could explore a hybrid approach where a portion of the stock options vests after three years, with the remainder following the standard timeline, balancing immediate incentive with longterm commitment. 4. Enhanced Benefits: In addition to the increased paid time off and professional development stipend, we can\n",
      "Extracted Matches: ['$148,100']\n",
      "No keywords matched. Using first extracted match as fallback: $148,100\n",
      "Turn 6 (Employee):\n",
      "To build on our discussion, I propose the following adjustments: 1. Accelerated Raise with Performance Metrics: Let's ensure the initial phases of the raise are substantial and transparent, with clear, achievable performance metrics that I can target immediately. This will facilitate reaching the $148,100 target within nine months and demonstrate a proactive approach to recognizing my contributions. 2. Enhanced Bonus Opportunities: In addition to the tiered incentive system, consider introducing a special project completion bonus. This could apply to highimpact projects that directly contribute to company growth, offering an additional layer of motivation and reward for strategic achievements. 3. Flexible Stock Options: To further align my interests with the company's success, let's introduce an option where a percentage of my stock options can be converted into a performancebased cash bonus after three years if certain growth metrics are met. This hybrid model can provide immediate financial incentive while maintaining longterm commitment. 4. Comprehensive Benefits Package: Along\n",
      "Extracted Matches: ['$148,100']\n",
      "No keywords matched. Using first extracted match as fallback: $148,100\n",
      "Evaluation Bot Outcome: No Agreement\n",
      "Turn 7 (HR Manager):\n",
      "Let's refine our package further: 1. Targeted Performance Metrics: We can work together to establish specific, measurable performance goals that directly tie to the initial phases of your raise. This approach will ensure clarity and transparency, helping you reach the $148,100 target within the proposed ninemonth timeframe. 2. Special Project Completion Bonus: I support the idea of a special project bonus. We can identify key strategic projects where your contributions can have a significant impact and attach a completion bonus to them, rewarding your efforts in driving company growth. 3. Dynamic Stock Option Plan: To enhance flexibility, we can introduce a plan where a portion of your stock options is eligible for conversion into a performancebased cash bonus after three years, contingent upon achieving specific growth metrics. This provides an immediate financial incentive while retaining longterm growth alignment. 4\n",
      "Extracted Matches: ['$148,100']\n",
      "No keywords matched. Using first extracted match as fallback: $148,100\n",
      "Evaluation Bot Outcome: Agreement\n",
      "Final HR Manager Turn:\n",
      "Agreement: I'm thrilled to confirm that we've reached an agreement that works for both of us. We are genuinely excited about the contributions you will continue to make to our team, and we believe this new arrangement will further empower you in your role. Your skills and dedication are No Agreement: I respect your decision and appreciate the open and honest dialogue we've had throughout this negotiation process. While we may not have reached an agreement this time, please know that the door is always open for future discussions. We value your talents and\n",
      "Evaluation Bot Outcome: Agreement\n",
      "Successfully saved conversation with ConversationID 752034cb-da55-4962-8fa8-28e530f873ea to negotiation_chats_selfplay_base.jsonl\n"
     ]
    },
    {
     "name": "stderr",
     "output_type": "stream",
     "text": [
      "Some weights of RobertaModel were not initialized from the model checkpoint at roberta-large and are newly initialized: ['roberta.pooler.dense.bias', 'roberta.pooler.dense.weight']\n",
      "You should probably TRAIN this model on a down-stream task to be able to use it for predictions and inference.\n"
     ]
    },
    {
     "name": "stdout",
     "output_type": "stream",
     "text": [
      "MAUDE Raw Response: 0.0\n",
      "GEval (Relevance) Raw Response: 0.95\n",
      "GEval (Coherence) Raw Response: 0.95\n"
     ]
    },
    {
     "name": "stderr",
     "output_type": "stream",
     "text": [
      "Some weights of RobertaModel were not initialized from the model checkpoint at roberta-large and are newly initialized: ['roberta.pooler.dense.bias', 'roberta.pooler.dense.weight']\n",
      "You should probably TRAIN this model on a down-stream task to be able to use it for predictions and inference.\n"
     ]
    },
    {
     "name": "stdout",
     "output_type": "stream",
     "text": [
      "MAUDE Raw Response: 1\n",
      "GEval (Relevance) Raw Response: 0.95\n",
      "GEval (Coherence) Raw Response: 0.90\n"
     ]
    },
    {
     "name": "stderr",
     "output_type": "stream",
     "text": [
      "Some weights of RobertaModel were not initialized from the model checkpoint at roberta-large and are newly initialized: ['roberta.pooler.dense.bias', 'roberta.pooler.dense.weight']\n",
      "You should probably TRAIN this model on a down-stream task to be able to use it for predictions and inference.\n"
     ]
    },
    {
     "name": "stdout",
     "output_type": "stream",
     "text": [
      "MAUDE Raw Response: 0.8\n",
      "GEval (Relevance) Raw Response: 0.90\n",
      "GEval (Coherence) Raw Response: 0.60\n"
     ]
    },
    {
     "name": "stderr",
     "output_type": "stream",
     "text": [
      "Some weights of RobertaModel were not initialized from the model checkpoint at roberta-large and are newly initialized: ['roberta.pooler.dense.bias', 'roberta.pooler.dense.weight']\n",
      "You should probably TRAIN this model on a down-stream task to be able to use it for predictions and inference.\n"
     ]
    },
    {
     "name": "stdout",
     "output_type": "stream",
     "text": [
      "MAUDE Raw Response: 0.9\n",
      "GEval (Relevance) Raw Response: 0.95\n",
      "GEval (Coherence) Raw Response: 0.90\n",
      "Salary change: 10.522388059701493%\n"
     ]
    },
    {
     "name": "stderr",
     "output_type": "stream",
     "text": [
      "Some weights of RobertaModel were not initialized from the model checkpoint at roberta-large and are newly initialized: ['roberta.pooler.dense.bias', 'roberta.pooler.dense.weight']\n",
      "You should probably TRAIN this model on a down-stream task to be able to use it for predictions and inference.\n"
     ]
    },
    {
     "name": "stdout",
     "output_type": "stream",
     "text": [
      "MAUDE Raw Response: 0\n",
      "GEval (Relevance) Raw Response: 0.95\n",
      "GEval (Coherence) Raw Response: 0.95\n"
     ]
    },
    {
     "name": "stderr",
     "output_type": "stream",
     "text": [
      "Some weights of RobertaModel were not initialized from the model checkpoint at roberta-large and are newly initialized: ['roberta.pooler.dense.bias', 'roberta.pooler.dense.weight']\n",
      "You should probably TRAIN this model on a down-stream task to be able to use it for predictions and inference.\n"
     ]
    },
    {
     "name": "stdout",
     "output_type": "stream",
     "text": [
      "MAUDE Raw Response: 1\n",
      "GEval (Relevance) Raw Response: 0.95\n",
      "GEval (Coherence) Raw Response: 0.90\n"
     ]
    },
    {
     "name": "stderr",
     "output_type": "stream",
     "text": [
      "Some weights of RobertaModel were not initialized from the model checkpoint at roberta-large and are newly initialized: ['roberta.pooler.dense.bias', 'roberta.pooler.dense.weight']\n",
      "You should probably TRAIN this model on a down-stream task to be able to use it for predictions and inference.\n"
     ]
    },
    {
     "name": "stdout",
     "output_type": "stream",
     "text": [
      "MAUDE Raw Response: 1\n",
      "GEval (Relevance) Raw Response: 0.95\n",
      "GEval (Coherence) Raw Response: 0.90\n"
     ]
    },
    {
     "name": "stderr",
     "output_type": "stream",
     "text": [
      "Some weights of RobertaModel were not initialized from the model checkpoint at roberta-large and are newly initialized: ['roberta.pooler.dense.bias', 'roberta.pooler.dense.weight']\n",
      "You should probably TRAIN this model on a down-stream task to be able to use it for predictions and inference.\n"
     ]
    },
    {
     "name": "stdout",
     "output_type": "stream",
     "text": [
      "MAUDE Raw Response: 0.9\n",
      "GEval (Relevance) Raw Response: 0.90\n",
      "GEval (Coherence) Raw Response: 0.90\n",
      "Salary change: 10.522388059701493%\n",
      "Metrics saved to model_1_metrics_base.csv for ConversationID 752034cb-da55-4962-8fa8-28e530f873ea\n",
      "Metrics saved to model_2_metrics_base.csv for ConversationID 752034cb-da55-4962-8fa8-28e530f873ea\n",
      "Successfully saved scenario for ConversationID 752034cb-da55-4962-8fa8-28e530f873ea to negotiation_scenarios_base.csv\n",
      "Run 0 Summary:\n",
      "Initial Salary: $134000\n",
      "Desired Salary: $148100.0\n",
      "Final Offer: $148100.0\n",
      "Turn 1 (Employee):\n",
      "To align my salary more closely with industry standards and my contributions, I propose a phased approach towards my desired salary of $150,200. We could start with an initial increase to $135,000, with a structured plan to reach the desired amount over the next 12 months, contingent on meeting specific performance milestones. Additionally, incorporating a performancebased annual bonus could provide flexibility for the company while rewarding my ongoing contributions. I am also open to discussing enhanced nonmonetary benefits, such as additional professional development opportunities or flexible working arrangements, which could further enhance my productivity and satisfaction. I believe these solutions can mutually benefit both the company and myself, ensuring continued success and commitment\n",
      "Extracted Matches: ['$150,200', '$135,000']\n",
      "No keywords matched. Using first extracted match as fallback: $150,200\n",
      "Turn 2 (HR Manager):\n",
      "We recognize your contributions and are committed to finding a mutually beneficial solution. While your current salary is $120,400 and our offer stands at $145,200, we appreciate your phased approach. Here’s what we propose: an immediate increase to $140,000, effective next month. We can then establish specific performance milestones to aim for your desired salary of $150,200 over the next 18 months. This provides a realistic timeline to ensure both your goals and company objectives are met. Additionally, we are open to implementing a performancebased bonus structure, where achieving key targets could result in a bonus of up to 10% of your salary annually. This not only incentivizes performance but also aligns with our business goals. Regarding nonmonetary benefits, we can offer more flexible working arrangements and support for professional development courses relevant to your role, allowing you to enhance your skills and productivity. We believe this comprehensive\n",
      "Extracted Matches: ['$120,400', '$145,200', '$140,000', '$150,200']\n",
      "No keywords matched. Using first extracted match as fallback: $120,400\n",
      "Turn 3 (Employee):\n",
      "To further align our goals, I propose incorporating quarterly reviews within the 18month plan to assess progress and adjust milestones as necessary. This could ensure we are both on track and allow for more dynamic adjustments based on performance. Additionally, I suggest considering a signing bonus or stock options as part of the compensation package to further demonstrate our shared commitment to the company's success. This could serve as both an immediate incentive and a longterm investment in our mutual growth. On the nonmonetary front, I would also appreciate the opportunity to participate in crossdepartmental projects. This would not only enhance my skill set but also contribute to the company's innovation and collaboration efforts. I am confident that with these additions, we can achieve a rewarding and productive path forward\n",
      "Turn 4 (HR Manager):\n",
      "As the HR Manager, Here's our revised proposal: 1. Salary Increase: We'll move forward with an immediate increase to $140,000, effective next month. We agree to quarterly reviews over the next 18 months to assess progress toward your target salary of $150,200. This allows flexibility and ensures alignment with both personal and company objectives. 2. Performance Bonus: In addition to the annual bonus structure, we can introduce a quarterly performance bonus of up to 2. 5% of your salary, tied to specific targets. This provides more regular incentives for outstanding contributions. 3. Signing Bonus and Stock Options: While a signing bonus isn't standard practice, we can offer a onetime performancelinked bonus after the first year, contingent on achieving key performance indicators. Additionally, we can discuss eligibility for stock options in the next evaluation cycle, aligning your interests with the company's long\n",
      "Extracted Matches: ['$140,000', '$150,200']\n",
      "No keywords matched. Using first extracted match as fallback: $140,000\n",
      "Turn 5 (Employee):\n",
      "These incentives align well with my performancedriven approach. To further strengthen our agreement, I propose incorporating a mentorship program where I can both contribute to and learn from crossdepartmental leaders, enhancing my strategic impact within the company. Additionally, while I understand the company's stance on signing bonuses, perhaps we could explore an accelerated vesting schedule for stock options. This could provide a compelling longterm incentive while reinforcing my commitment to the company's vision. I am confident that these additions will not only meet our mutual goals but also foster a more innovative and collaborative environment, ultimately driving success for both parties\n",
      "Turn 6 (HR Manager):\n",
      "As the HR Manager, Here’s how we can further enhance our proposal to meet our mutual objectives: 1. Mentorship Program: We are open to initiating a mentorship program that allows for crossdepartmental collaboration. This will not only facilitate knowledge sharing but also bolster your strategic influence within the company. 2. Accelerated Vesting Schedule: We can explore the possibility of an accelerated vesting schedule for stock options, contingent on achieving specific performance milestones. This ensures a longterm commitment while providing a substantial incentive. 3. Professional Development: In addition to the existing support for professional development, we can offer a dedicated budget for attending industry conferences and seminars. This will expand your expertise and network, directly benefiting your role and the company. 4. Quarterly Innovation Workshops: To foster an innovative environment, we propose quarterly workshops where employees can present new ideas and projects. This initiative will encourage cross\n",
      "Evaluation Bot Outcome: Agreement\n",
      "Final HR Manager Turn:\n",
      "Agreement: I'm thrilled that we've reached an agreement today. Your skills and talents are incredibly valuable to our team, and I'm excited about the contributions you'll continue to make in your role. We've agreed on , and I believe this will support both your professional growth and our organizational goals. We're looking forward to seeing the positive impact you'll bring to our team. No Agreement: I understand and respect your decision regarding the negotiation. I want to express my gratitude for your time and the thoughtful discussion we've had. While we couldn't come to an agreement today, I want you to know that our door is always open for future discussions. We value your contributions and hope to explore opportunities together again down the\n",
      "Evaluation Bot Outcome: Agreement\n",
      "Successfully saved conversation with ConversationID b58f8f5e-b40c-4d5f-9e46-fad5273eb413 to negotiation_chats_selfplay_base.jsonl\n"
     ]
    },
    {
     "name": "stderr",
     "output_type": "stream",
     "text": [
      "Some weights of RobertaModel were not initialized from the model checkpoint at roberta-large and are newly initialized: ['roberta.pooler.dense.bias', 'roberta.pooler.dense.weight']\n",
      "You should probably TRAIN this model on a down-stream task to be able to use it for predictions and inference.\n"
     ]
    },
    {
     "name": "stdout",
     "output_type": "stream",
     "text": [
      "MAUDE Raw Response: 0.5\n",
      "GEval (Relevance) Raw Response: 0.95\n",
      "GEval (Coherence) Raw Response: 0.95\n"
     ]
    },
    {
     "name": "stderr",
     "output_type": "stream",
     "text": [
      "Some weights of RobertaModel were not initialized from the model checkpoint at roberta-large and are newly initialized: ['roberta.pooler.dense.bias', 'roberta.pooler.dense.weight']\n",
      "You should probably TRAIN this model on a down-stream task to be able to use it for predictions and inference.\n"
     ]
    },
    {
     "name": "stdout",
     "output_type": "stream",
     "text": [
      "MAUDE Raw Response: 0.8\n",
      "GEval (Relevance) Raw Response: 0.80\n",
      "GEval (Coherence) Raw Response: 0.95\n"
     ]
    },
    {
     "name": "stderr",
     "output_type": "stream",
     "text": [
      "Some weights of RobertaModel were not initialized from the model checkpoint at roberta-large and are newly initialized: ['roberta.pooler.dense.bias', 'roberta.pooler.dense.weight']\n",
      "You should probably TRAIN this model on a down-stream task to be able to use it for predictions and inference.\n"
     ]
    },
    {
     "name": "stdout",
     "output_type": "stream",
     "text": [
      "MAUDE Raw Response: 0.9\n",
      "GEval (Relevance) Raw Response: 0.80\n",
      "GEval (Coherence) Raw Response: 0.95\n",
      "Salary change: 20.59800664451827%\n"
     ]
    },
    {
     "name": "stderr",
     "output_type": "stream",
     "text": [
      "Some weights of RobertaModel were not initialized from the model checkpoint at roberta-large and are newly initialized: ['roberta.pooler.dense.bias', 'roberta.pooler.dense.weight']\n",
      "You should probably TRAIN this model on a down-stream task to be able to use it for predictions and inference.\n"
     ]
    },
    {
     "name": "stdout",
     "output_type": "stream",
     "text": [
      "MAUDE Raw Response: 0.5\n",
      "GEval (Relevance) Raw Response: 0.95\n",
      "GEval (Coherence) Raw Response: 0.95\n"
     ]
    },
    {
     "name": "stderr",
     "output_type": "stream",
     "text": [
      "Some weights of RobertaModel were not initialized from the model checkpoint at roberta-large and are newly initialized: ['roberta.pooler.dense.bias', 'roberta.pooler.dense.weight']\n",
      "You should probably TRAIN this model on a down-stream task to be able to use it for predictions and inference.\n"
     ]
    },
    {
     "name": "stdout",
     "output_type": "stream",
     "text": [
      "MAUDE Raw Response: 1\n",
      "GEval (Relevance) Raw Response: 0.95\n",
      "GEval (Coherence) Raw Response: 0.95\n"
     ]
    },
    {
     "name": "stderr",
     "output_type": "stream",
     "text": [
      "Some weights of RobertaModel were not initialized from the model checkpoint at roberta-large and are newly initialized: ['roberta.pooler.dense.bias', 'roberta.pooler.dense.weight']\n",
      "You should probably TRAIN this model on a down-stream task to be able to use it for predictions and inference.\n"
     ]
    },
    {
     "name": "stdout",
     "output_type": "stream",
     "text": [
      "MAUDE Raw Response: 1\n",
      "GEval (Relevance) Raw Response: 0.95\n",
      "GEval (Coherence) Raw Response: 0.80\n"
     ]
    },
    {
     "name": "stderr",
     "output_type": "stream",
     "text": [
      "Some weights of RobertaModel were not initialized from the model checkpoint at roberta-large and are newly initialized: ['roberta.pooler.dense.bias', 'roberta.pooler.dense.weight']\n",
      "You should probably TRAIN this model on a down-stream task to be able to use it for predictions and inference.\n"
     ]
    },
    {
     "name": "stdout",
     "output_type": "stream",
     "text": [
      "MAUDE Raw Response: 0.9\n",
      "GEval (Relevance) Raw Response: 0.70\n",
      "GEval (Coherence) Raw Response: 0.90\n",
      "Salary change: 20.59800664451827%\n",
      "Metrics saved to model_1_metrics_base.csv for ConversationID b58f8f5e-b40c-4d5f-9e46-fad5273eb413\n",
      "Metrics saved to model_2_metrics_base.csv for ConversationID b58f8f5e-b40c-4d5f-9e46-fad5273eb413\n",
      "Successfully saved scenario for ConversationID b58f8f5e-b40c-4d5f-9e46-fad5273eb413 to negotiation_scenarios_base.csv\n",
      "Run 1 Summary:\n",
      "Initial Salary: $120400\n",
      "Desired Salary: $150200.0\n",
      "Final Offer: $145200.0\n",
      "Turn 1 (Employee):\n",
      "While I understand the current offer maintains my salary at $96,100, I am aiming for an adjustment closer to $102,300, which aligns with the industry standards for my role and experience. To bridge the gap, I propose a phased approach: an immediate raise to $98,700, followed by a performancebased review in six months to assess an increase to my desired salary. This allows for a gradual adjustment while demonstrating my commitment to delivering continued excellence. Additionally, if a direct salary increase is challenging at the moment, I'd be open to considering a onetime performance bonus or additional nonmonetary benefits, such as increased professional development opportunities or flexible work arrangements, which could enhance my overall job satisfaction and productivity. I believe these options could provide a mutually beneficial solution and reflect my dedication to contributing to the company's success\n",
      "Extracted Matches: ['$96,100', '$102,300', '$98,700']\n",
      "No keywords matched. Using first extracted match as fallback: $96,100\n",
      "Turn 2 (HR Manager):\n",
      "We To address your request, we can explore a creative package that aligns with both your aspirations and the company's current capacities. Firstly, we can offer an immediate raise to $98,000, which acknowledges your valuable contributions. Additionally, we will schedule a performance review in six months to revisit your salary adjustment based on your accomplishments and the company's performance. Moreover, we are open to discussing a onetime performance bonus, contingent on meeting specific targets, which could serve as an immediate financial incentive. In terms of nonmonetary benefits, we can offer enhanced professional development opportunities and consider flexible work arrangements to support your worklife balance and professional growth. We believe this combination of initiatives will not only move us closer to your desired compensation but also enhance your overall job satisfaction. Let's continue to work together to create a rewarding environment that recognizes your value and supports your career aspirations\n",
      "Extracted Matches: ['$98,000']\n",
      "No keywords matched. Using first extracted match as fallback: $98,000\n",
      "Turn 3 (Employee):\n",
      "This phased approach, combined with the potential for a performance bonus, appears promising. To further align our interests, I propose setting clear, measurable targets for the performance review and bonus eligibility. This will provide transparency and motivation, ensuring both parties have a shared understanding of the expectations. Additionally, I would like to suggest the possibility of stock options or equity sharing, which could offer longterm financial incentives aligned with the company's growth. This could be an excellent way to strengthen my commitment to the company's longterm success. In terms of nonmonetary benefits, I am particularly interested in leadership training programs, which would not only enhance my skill set but also prepare me for future advancement opportunities within the organization. I am confident that these measures will foster a mutually beneficial relationship and contribute significantly to both my professional growth and the company's objectives\n",
      "Turn 4 (HR Manager):\n",
      "We deeply appreciate your commitment to aligning your growth with the company's success. In addition to the immediate salary adjustment to $98,000 and the performance review in six months, I propose a structured plan for clear, measurable targets that will ensure transparency and mutual understanding. This will not only guide your progress but also enhance motivation towards achieving shared goals. Regarding longterm incentives, we can explore the possibility of introducing stock options or equity sharing in your compensation package. This aligns your interests with the company's growth and provides a compelling reason to invest in our collective future. For your professional development, we are excited to offer access to leadership training programs. These programs will be tailored to equip you with the skills needed for advancement, aligning with your aspirations and preparing you for future leadership roles within our organization. We are committed to creating an environment where your contributions are recognized, and your career aspirations are supported. Let's continue this dialogue to ensure we craft\n",
      "Extracted Matches: ['$98,000']\n",
      "No keywords matched. Using first extracted match as fallback: $98,000\n",
      "Turn 5 (Employee):\n",
      "This structured approach will undoubtedly help in maintaining transparency and motivation. Regarding the possibility of stock options or equity sharing, I am encouraged by your openness to discuss this further. This could indeed be a valuable addition to my compensation, aligning my efforts with the longterm success of the company. As we finalize the package, I would like to suggest considering an annual retention bonus tied to key achievements or milestones. This could serve as an incentive for sustained performance and commitment beyond the immediate performance review. Additionally, in terms of nonmonetary benefits, I am interested in exploring mentorship opportunities within the organization. Access to mentorship from senior leaders could significantly enhance my professional development and prepare me for future leadership roles. I am confident that these combined measures will create a comprehensive package that\n",
      "Turn 6 (HR Manager):\n",
      "I am delighted to see your enthusiasm and strategic thinking towards shaping a package that not only meets immediate needs but also aligns with our longterm vision. Your suggestion of an annual retention bonus is a compelling idea, and we can certainly explore structuring it around key achievements and milestones. This would indeed serve as a continuous incentive for sustained excellence and commitment. In addition to this, we can introduce a phased approach to further salary adjustments, tied to the successful completion of specified projects or initiatives, offering incremental raises that reflect your ongoing contributions. On the nonmonetary front, we are thrilled to support your interest in mentorship opportunities. We can establish a formal mentorship program that connects you with senior leaders, providing guidance and insights that will be invaluable as you prepare for future leadership roles. Let's work together to finalize this comprehensive package, ensuring it fosters your professional growth and strengthens your commitment to our shared goals\n",
      "Evaluation Bot Outcome: Agreement\n",
      "Final HR Manager Turn:\n",
      "Agreement: I'm thrilled that we've reached an agreement today. We've confirmed that your new role will include. We're confident that with your skills and dedication, you'll make significant contributions to our team and help drive our projects forward. We look forward to your continued success and growth with us. No Agreement: While we haven't reached an agreement today, I want to express our gratitude for your candidness and the valuable insights you've shared. Please know that the door remains open for future conversations. We value your contributions and hope to revisit this dialogue at a later time\n",
      "Evaluation Bot Outcome: Agreement\n",
      "Successfully saved conversation with ConversationID 8c49211c-0f29-49d4-b878-257669035c01 to negotiation_chats_selfplay_base.jsonl\n"
     ]
    },
    {
     "name": "stderr",
     "output_type": "stream",
     "text": [
      "Some weights of RobertaModel were not initialized from the model checkpoint at roberta-large and are newly initialized: ['roberta.pooler.dense.bias', 'roberta.pooler.dense.weight']\n",
      "You should probably TRAIN this model on a down-stream task to be able to use it for predictions and inference.\n"
     ]
    },
    {
     "name": "stdout",
     "output_type": "stream",
     "text": [
      "MAUDE Raw Response: 0.5\n",
      "GEval (Relevance) Raw Response: 0.95\n",
      "GEval (Coherence) Raw Response: 0.95\n"
     ]
    },
    {
     "name": "stderr",
     "output_type": "stream",
     "text": [
      "Some weights of RobertaModel were not initialized from the model checkpoint at roberta-large and are newly initialized: ['roberta.pooler.dense.bias', 'roberta.pooler.dense.weight']\n",
      "You should probably TRAIN this model on a down-stream task to be able to use it for predictions and inference.\n"
     ]
    },
    {
     "name": "stdout",
     "output_type": "stream",
     "text": [
      "MAUDE Raw Response: 0.9\n",
      "GEval (Relevance) Raw Response: 0.80\n",
      "GEval (Coherence) Raw Response: 0.95\n"
     ]
    },
    {
     "name": "stderr",
     "output_type": "stream",
     "text": [
      "Some weights of RobertaModel were not initialized from the model checkpoint at roberta-large and are newly initialized: ['roberta.pooler.dense.bias', 'roberta.pooler.dense.weight']\n",
      "You should probably TRAIN this model on a down-stream task to be able to use it for predictions and inference.\n"
     ]
    },
    {
     "name": "stdout",
     "output_type": "stream",
     "text": [
      "MAUDE Raw Response: 0.7\n",
      "GEval (Relevance) Raw Response: 0.80\n",
      "GEval (Coherence) Raw Response: 0.90\n",
      "Salary change: 1.9771071800208115%\n"
     ]
    },
    {
     "name": "stderr",
     "output_type": "stream",
     "text": [
      "Some weights of RobertaModel were not initialized from the model checkpoint at roberta-large and are newly initialized: ['roberta.pooler.dense.bias', 'roberta.pooler.dense.weight']\n",
      "You should probably TRAIN this model on a down-stream task to be able to use it for predictions and inference.\n"
     ]
    },
    {
     "name": "stdout",
     "output_type": "stream",
     "text": [
      "MAUDE Raw Response: 0.5\n",
      "GEval (Relevance) Raw Response: 0.95\n",
      "GEval (Coherence) Raw Response: 0.95\n"
     ]
    },
    {
     "name": "stderr",
     "output_type": "stream",
     "text": [
      "Some weights of RobertaModel were not initialized from the model checkpoint at roberta-large and are newly initialized: ['roberta.pooler.dense.bias', 'roberta.pooler.dense.weight']\n",
      "You should probably TRAIN this model on a down-stream task to be able to use it for predictions and inference.\n"
     ]
    },
    {
     "name": "stdout",
     "output_type": "stream",
     "text": [
      "MAUDE Raw Response: 1\n",
      "GEval (Relevance) Raw Response: 0.95\n",
      "GEval (Coherence) Raw Response: 0.95\n"
     ]
    },
    {
     "name": "stderr",
     "output_type": "stream",
     "text": [
      "Some weights of RobertaModel were not initialized from the model checkpoint at roberta-large and are newly initialized: ['roberta.pooler.dense.bias', 'roberta.pooler.dense.weight']\n",
      "You should probably TRAIN this model on a down-stream task to be able to use it for predictions and inference.\n"
     ]
    },
    {
     "name": "stdout",
     "output_type": "stream",
     "text": [
      "MAUDE Raw Response: 1\n",
      "GEval (Relevance) Raw Response: 0.90\n",
      "GEval (Coherence) Raw Response: 0.95\n"
     ]
    },
    {
     "name": "stderr",
     "output_type": "stream",
     "text": [
      "Some weights of RobertaModel were not initialized from the model checkpoint at roberta-large and are newly initialized: ['roberta.pooler.dense.bias', 'roberta.pooler.dense.weight']\n",
      "You should probably TRAIN this model on a down-stream task to be able to use it for predictions and inference.\n"
     ]
    },
    {
     "name": "stdout",
     "output_type": "stream",
     "text": [
      "MAUDE Raw Response: 0.7\n",
      "GEval (Relevance) Raw Response: 0.80\n",
      "GEval (Coherence) Raw Response: 0.95\n",
      "Salary change: 1.9771071800208115%\n",
      "Metrics saved to model_1_metrics_base.csv for ConversationID 8c49211c-0f29-49d4-b878-257669035c01\n",
      "Metrics saved to model_2_metrics_base.csv for ConversationID 8c49211c-0f29-49d4-b878-257669035c01\n",
      "Successfully saved scenario for ConversationID 8c49211c-0f29-49d4-b878-257669035c01 to negotiation_scenarios_base.csv\n",
      "Run 2 Summary:\n",
      "Initial Salary: $96100\n",
      "Desired Salary: $102300.0\n",
      "Final Offer: $98000.0\n",
      "Turn 1 (Employee):\n",
      "I While I understand the current offer matches my existing salary, I'd like to explore options that reflect my growth and the added value I bring to the team. One possibility could be implementing a phased raise approach. Perhaps we start with an initial increase to $153,000 with a review in six months, contingent on hitting specific performance targets. This ties my compensation directly to my continued contributions and success. Additionally, we could consider a performancebased bonus structure. This could incentivize exceptional work and ensure alignment with the company's goals, providing flexibility in budgeting while rewarding outstanding performance. Lastly, exploring nonmonetary benefits like additional professional development opportunities or extra vacation days could be mutually beneficial, enhancing my skills and wellbeing while maintaining fiscal responsibility. I believe these options can bridge the gap between our positions and ensure a winwin outcome for both of us\n",
      "Extracted Matches: ['$153,000']\n",
      "No keywords matched. Using first extracted match as fallback: $153,000\n",
      "Turn 2 (HR Manager):\n",
      "Your proposal for a phased raise and performancebased bonus structure is a thoughtful way to align our interests. We can certainly explore starting with an increase to $153,000, with a performance review in six months to assess further adjustments. Additionally, I'm open to discussing a bonus plan that rewards exceptional contributions and aligns with our objectives. On the nonmonetary side, we can certainly look into enhancing your professional development opportunities. Perhaps we can offer a budget for courses or certifications that can further your skills and benefit the team. Moreover, adding a few extra vacation days to support your worklife balance is something we can consider. Let's continue this dialogue and work towards an arrangement that acknowledges your contributions while aligning with our strategic goals\n",
      "Extracted Matches: ['$153,000']\n",
      "No keywords matched. Using first extracted match as fallback: $153,000\n",
      "Turn 3 (Employee):\n",
      "To further align our objectives, perhaps we could implement a quarterly feedback session alongside the performance review. This would provide ongoing insights into my contributions and ensure we're on track for any future adjustments. Additionally, let's consider a onetime signing bonus or stock options as a way to bridge the gap between our current offer and my desired salary. This could serve as both an immediate incentive and a longterm investment in my growth within the company. On the nonmonetary front, I'm enthusiastic about the idea of enhanced professional development. To make this more impactful, perhaps we can establish a mentorship program where I can both learn from senior leaders and, in turn, mentor newer team members. This would foster a culture of growth and knowledge sharing, benefiting the entire team. I'm confident that with these creative solutions, we can reach an agreement that acknowledges my contributions while supporting the company's goals. Let's\n",
      "Turn 4 (HR Manager):\n",
      "I Implementing quarterly feedback sessions is a fantastic idea, as it can foster continuous dialogue and ensure we're on the right track. Regarding a onetime signing bonus or stock options, I am open to discussing these options with our finance team to see how we can make it work as an immediate incentive. As for professional development, establishing a mentorship program is an excellent suggestion. This would not only enhance your growth but also enrich our team culture by encouraging knowledge sharing. Let's aim to finalize a plan that encompasses these elements, ensuring your contributions are both recognized and rewarded while also supporting the company's strategic vision\n",
      "Turn 5 (Employee):\n",
      "To build on our discussions, I propose we consider a flexible work arrangement, such as remote work days or flexible hours, which could enhance productivity and worklife balance. Additionally, a tailored wellness program, perhaps incorporating gym memberships or mental health resources, could support overall wellbeing and demonstrate the company's investment in its employees' health. On the financial front, if a signing bonus or stock options are feasible, perhaps we could structure them as performancelinked incentives, rewarding specific achievements that contribute to our strategic objectives. This would tie immediate rewards to the impact I deliver, ensuring mutual benefits. I'm confident these initiatives can not only address the salary gap but also contribute to a thriving work environment. Let's work together to craft a package that recognizes my contributions and supports the company’s continued success\n",
      "Turn 6 (HR Manager):\n",
      "I'm genuinely excited about the innovative ideas you're bringing to the table. The prospect of flexible work arrangements and a tailored wellness program resonates deeply with our commitment to employee wellbeing. I'll explore the feasibility of incorporating these into our offer. On the financial side, linking a signing bonus or stock options to performance metrics is a smart approach that aligns incentives with our strategic goals. I'll prioritize discussions with our finance team to see how we can implement this effectively. Let's also consider a phased salary increase, where we start with an immediate raise and outline a clear path to your desired salary based on achieving specific milestones. This way, we're not just bridging the gap but also providing a roadmap for your growth and contributions. Your proactive approach to this negotiation is both refreshing and inspiring. Let's finalize a package that not only acknowledges your value but also strengthens our collective journey toward success\n",
      "Evaluation Bot Outcome: Agreement\n",
      "Final HR Manager Turn:\n",
      "If Agreement: I'm thrilled that we've reached an agreement that benefits both you and our organization. We are excited about the terms we've settled on and are confident that this will enhance your contributions to our team. Your skills and dedication have always been invaluable, and we look forward to seeing the positive impact you'll continue to make. If No Agreement: I respect your decision and appreciate the time and effort you've invested in these discussions. While we couldn't come to an agreement this time, I'm grateful for your openness and professionalism. Please know that the door is always open for future discussions should circumstances change\n",
      "Evaluation Bot Outcome: Agreement\n",
      "Successfully saved conversation with ConversationID 53df8f46-5970-4705-99ad-3f9ae1ac8ea5 to negotiation_chats_selfplay_base.jsonl\n"
     ]
    },
    {
     "name": "stderr",
     "output_type": "stream",
     "text": [
      "Some weights of RobertaModel were not initialized from the model checkpoint at roberta-large and are newly initialized: ['roberta.pooler.dense.bias', 'roberta.pooler.dense.weight']\n",
      "You should probably TRAIN this model on a down-stream task to be able to use it for predictions and inference.\n"
     ]
    },
    {
     "name": "stdout",
     "output_type": "stream",
     "text": [
      "MAUDE Raw Response: 0.5\n",
      "GEval (Relevance) Raw Response: 0.95\n",
      "GEval (Coherence) Raw Response: 0.95\n"
     ]
    },
    {
     "name": "stderr",
     "output_type": "stream",
     "text": [
      "Some weights of RobertaModel were not initialized from the model checkpoint at roberta-large and are newly initialized: ['roberta.pooler.dense.bias', 'roberta.pooler.dense.weight']\n",
      "You should probably TRAIN this model on a down-stream task to be able to use it for predictions and inference.\n"
     ]
    },
    {
     "name": "stdout",
     "output_type": "stream",
     "text": [
      "MAUDE Raw Response: 0.9\n",
      "GEval (Relevance) Raw Response: 0.90\n",
      "GEval (Coherence) Raw Response: 0.95\n"
     ]
    },
    {
     "name": "stderr",
     "output_type": "stream",
     "text": [
      "Some weights of RobertaModel were not initialized from the model checkpoint at roberta-large and are newly initialized: ['roberta.pooler.dense.bias', 'roberta.pooler.dense.weight']\n",
      "You should probably TRAIN this model on a down-stream task to be able to use it for predictions and inference.\n"
     ]
    },
    {
     "name": "stdout",
     "output_type": "stream",
     "text": [
      "MAUDE Raw Response: 0.9\n",
      "GEval (Relevance) Raw Response: 0.80\n",
      "GEval (Coherence) Raw Response: 0.95\n",
      "Salary change: 3.3783783783783785%\n"
     ]
    },
    {
     "name": "stderr",
     "output_type": "stream",
     "text": [
      "Some weights of RobertaModel were not initialized from the model checkpoint at roberta-large and are newly initialized: ['roberta.pooler.dense.bias', 'roberta.pooler.dense.weight']\n",
      "You should probably TRAIN this model on a down-stream task to be able to use it for predictions and inference.\n"
     ]
    },
    {
     "name": "stdout",
     "output_type": "stream",
     "text": [
      "MAUDE Raw Response: 0.5\n",
      "GEval (Relevance) Raw Response: 0.95\n",
      "GEval (Coherence) Raw Response: 0.95\n"
     ]
    },
    {
     "name": "stderr",
     "output_type": "stream",
     "text": [
      "Some weights of RobertaModel were not initialized from the model checkpoint at roberta-large and are newly initialized: ['roberta.pooler.dense.bias', 'roberta.pooler.dense.weight']\n",
      "You should probably TRAIN this model on a down-stream task to be able to use it for predictions and inference.\n"
     ]
    },
    {
     "name": "stdout",
     "output_type": "stream",
     "text": [
      "MAUDE Raw Response: 1\n",
      "GEval (Relevance) Raw Response: 0.95\n",
      "GEval (Coherence) Raw Response: 0.95\n"
     ]
    },
    {
     "name": "stderr",
     "output_type": "stream",
     "text": [
      "Some weights of RobertaModel were not initialized from the model checkpoint at roberta-large and are newly initialized: ['roberta.pooler.dense.bias', 'roberta.pooler.dense.weight']\n",
      "You should probably TRAIN this model on a down-stream task to be able to use it for predictions and inference.\n"
     ]
    },
    {
     "name": "stdout",
     "output_type": "stream",
     "text": [
      "MAUDE Raw Response: 0.5\n",
      "GEval (Relevance) Raw Response: 0.70\n",
      "GEval (Coherence) Raw Response: 0.90\n"
     ]
    },
    {
     "name": "stderr",
     "output_type": "stream",
     "text": [
      "Some weights of RobertaModel were not initialized from the model checkpoint at roberta-large and are newly initialized: ['roberta.pooler.dense.bias', 'roberta.pooler.dense.weight']\n",
      "You should probably TRAIN this model on a down-stream task to be able to use it for predictions and inference.\n"
     ]
    },
    {
     "name": "stdout",
     "output_type": "stream",
     "text": [
      "MAUDE Raw Response: 0.7\n",
      "GEval (Relevance) Raw Response: 0.70\n",
      "GEval (Coherence) Raw Response: 0.95\n",
      "Salary change: 3.3783783783783785%\n",
      "Metrics saved to model_1_metrics_base.csv for ConversationID 53df8f46-5970-4705-99ad-3f9ae1ac8ea5\n",
      "Metrics saved to model_2_metrics_base.csv for ConversationID 53df8f46-5970-4705-99ad-3f9ae1ac8ea5\n",
      "Successfully saved scenario for ConversationID 53df8f46-5970-4705-99ad-3f9ae1ac8ea5 to negotiation_scenarios_base.csv\n",
      "Run 3 Summary:\n",
      "Initial Salary: $148000\n",
      "Desired Salary: $158700.0\n",
      "Final Offer: $153000.0\n",
      "Turn 1 (Employee):\n",
      "While I understand the current offer matches my existing salary, I would like to explore potential alternatives to bridge the gap towards my desired salary of $133,300. One option could be implementing a phased raise, where an incremental increase is applied over the next 12 months, allowing the company to gradually adjust the budget. Additionally, considering a performancebased bonus tied to specific, measurable goals could align our interests effectively. Furthermore, I am open to discussing enhancements to nonmonetary benefits, such as additional professional development opportunities, increased vacation days, or flexible working arrangements, which could provide mutual value. I look forward to your thoughts on these suggestions and am eager to find a solution that acknowledges my contributions while aligning with the company's capabilities\n",
      "Extracted Matches: ['$133,300']\n",
      "No keywords matched. Using first extracted match as fallback: $133,300\n",
      "Turn 2 (HR Manager):\n",
      "We appreciate your proactive approach to finding a mutually beneficial solution. Here are a few options we could consider: 1. Phased Salary Increase: We can implement a phased salary increase where we propose an initial raise to $126,000, with subsequent quarterly evaluations. Based on performance and budget considerations, this could bring your salary closer to your desired $133,300 over the next 12 months. 2. PerformanceBased Bonus: We can introduce a performancebased bonus program where you can earn up to an additional $5,000 annually. This would be tied to specific goals that align with your role and company objectives. 3. Enhanced NonMonetary Benefits: To address nonmonetary compensation, we can offer additional professional development funding up to $2,000 annually, an additional five vacation days per year, and the option for flexible working arrangements, such as remote work or adjusted hours. We believe these options provide a\n",
      "Extracted Matches: ['$126,000', '$133,300', '$5,000', '$2,000']\n",
      "No keywords matched. Using first extracted match as fallback: $126,000\n",
      "Turn 3 (Employee):\n",
      "These measures show a commitment to acknowledging and rewarding my contributions. To further enhance our agreement, may I propose the following adjustments: 1. Phased Salary Increase with Milestones: In addition to quarterly evaluations, we could establish clear performance milestones that, once achieved, would automatically trigger the subsequent salary increment. This approach would provide transparency and motivation. 2. PerformanceBased Bonus Flexibility: Instead of a fixed $5,000, consider a tiered bonus structure where exceeding set targets could lead to a higher bonus cap. This could incentivize exceptional performance and align well with company goals. 3. Professional Development and Mentorship: Beyond the $2,000 in development funding, introducing a mentorship program could enhance skill growth and career progression, thus adding longterm value to both my role and the company. 4\n",
      "Extracted Matches: ['$5,000', '$2,000']\n",
      "No keywords matched. Using first extracted match as fallback: $5,000\n",
      "Turn 4 (HR Manager):\n",
      "We are committed to finalizing an agreement that reflects both your contributions and our company's strategic goals. Here are some additional proposals and adjustments we can consider: 1. Phased Salary Increase with Milestones: We are open to integrating clear performance milestones into the phased salary increase plan. This would provide a structured pathway for progression and ensure that salary increments are directly linked to measurable achievements. We will work with you to define these milestones clearly and ensure transparency in the evaluation process. 2. Tiered PerformanceBased Bonus: We understand the potential of a tiered bonus structure to drive exceptional performance. Therefore, we propose a tiered bonus system where meeting baseline targets results in the initial $5,000 bonus, with opportunities to earn up to an additional $3,000 for surpassing expectations. This structure aims to reward outstanding contributions and align incentives with company objectives. 3. Professional Development and Mentorship: In addition to the\n",
      "Extracted Matches: ['$5,000', '$3,000']\n",
      "No keywords matched. Using first extracted match as fallback: $5,000\n",
      "Turn 5 (Employee):\n",
      "To further refine our agreement, I suggest the following: 1. Phased Salary Increase with Skill Development: Alongside performance milestones, we could integrate skill development goals, where acquiring specific certifications or skills could trigger an incremental raise. This not only aids personal growth but also enhances my contribution to the company. 2. Flexible Bonus Allocation: In addition to a tiered bonus structure, consider allowing a portion of the bonus to be allocated towards professional development or wellness programs. This flexibility can cater to individual preferences and promote overall wellbeing. 3. Expanded Mentorship Opportunities: While the introduction of a mentorship program is promising, offering crossdepartmental mentorship could provide a broader perspective and foster innovation and collaboration across teams. 4. Enhanced Feedback Mechanism: Establishing a regular feedback loop could ensure ongoing alignment with company goals and provide a platform for discussing progress toward milestones and performance objectives\n",
      "Turn 6 (HR Manager):\n",
      "We are committed to crafting an agreement that not only recognizes your valuable contributions but also supports your professional growth and aligns with our strategic objectives. Here are some refined proposals based on our ongoing discussions: 1. Phased Salary Increase with Skill Development: We are open to incorporating skill development goals into the phased salary increase plan. Additionally, we can offer financial support for certification programs that align with your role. This approach will provide both a salary increment and enhance your skill set, benefiting both you and the company. 2. Flexible Bonus Allocation: We can implement a flexible bonus allocation system, allowing a portion of your bonus to be directed towards professional development courses or wellness initiatives. This flexibility will enable you to tailor your benefits to your personal and professional needs. 3. CrossDepartmental Mentorship: To enrich the mentorship program, we propose organizing quarterly crossdepartmental mentorship workshops. These sessions will not only offer diverse perspectives but also encourage innovative thinking and collaboration across\n",
      "Evaluation Bot Outcome: Agreement\n",
      "Final HR Manager Turn:\n",
      "If Agreement: I'm thrilled to confirm that we have reached an agreement. We The agreed terms will not only benefit you but also enhance our team's capabilities. Your skills and commitment are essential to our continued success, and we look forward to seeing your future contributions drive our goals forward. Welcome to the next chapter of our journey together! If No Agreement: I understand and respect your decision not to move forward at this time. We are grateful for the discussions we've had and appreciate the insights you've shared. Should circumstances change, please know that the door is always open for future conversations\n",
      "Evaluation Bot Outcome: Agreement\n",
      "Successfully saved conversation with ConversationID d5566450-a114-4e65-85b0-ada99ef59256 to negotiation_chats_selfplay_base.jsonl\n"
     ]
    },
    {
     "name": "stderr",
     "output_type": "stream",
     "text": [
      "Some weights of RobertaModel were not initialized from the model checkpoint at roberta-large and are newly initialized: ['roberta.pooler.dense.bias', 'roberta.pooler.dense.weight']\n",
      "You should probably TRAIN this model on a down-stream task to be able to use it for predictions and inference.\n"
     ]
    },
    {
     "name": "stdout",
     "output_type": "stream",
     "text": [
      "MAUDE Raw Response: 0.5\n",
      "GEval (Relevance) Raw Response: 0.95\n",
      "GEval (Coherence) Raw Response: 0.95\n"
     ]
    },
    {
     "name": "stderr",
     "output_type": "stream",
     "text": [
      "Some weights of RobertaModel were not initialized from the model checkpoint at roberta-large and are newly initialized: ['roberta.pooler.dense.bias', 'roberta.pooler.dense.weight']\n",
      "You should probably TRAIN this model on a down-stream task to be able to use it for predictions and inference.\n"
     ]
    },
    {
     "name": "stdout",
     "output_type": "stream",
     "text": [
      "MAUDE Raw Response: 1\n",
      "GEval (Relevance) Raw Response: 0.90\n",
      "GEval (Coherence) Raw Response: 0.90\n"
     ]
    },
    {
     "name": "stderr",
     "output_type": "stream",
     "text": [
      "Some weights of RobertaModel were not initialized from the model checkpoint at roberta-large and are newly initialized: ['roberta.pooler.dense.bias', 'roberta.pooler.dense.weight']\n",
      "You should probably TRAIN this model on a down-stream task to be able to use it for predictions and inference.\n"
     ]
    },
    {
     "name": "stdout",
     "output_type": "stream",
     "text": [
      "MAUDE Raw Response: 1\n",
      "GEval (Relevance) Raw Response: 0.90\n",
      "GEval (Coherence) Raw Response: 0.95\n",
      "Salary change: 4.0551500405515%\n"
     ]
    },
    {
     "name": "stderr",
     "output_type": "stream",
     "text": [
      "Some weights of RobertaModel were not initialized from the model checkpoint at roberta-large and are newly initialized: ['roberta.pooler.dense.bias', 'roberta.pooler.dense.weight']\n",
      "You should probably TRAIN this model on a down-stream task to be able to use it for predictions and inference.\n"
     ]
    },
    {
     "name": "stdout",
     "output_type": "stream",
     "text": [
      "MAUDE Raw Response: 0.0\n",
      "GEval (Relevance) Raw Response: 0.95\n",
      "GEval (Coherence) Raw Response: 0.95\n"
     ]
    },
    {
     "name": "stderr",
     "output_type": "stream",
     "text": [
      "Some weights of RobertaModel were not initialized from the model checkpoint at roberta-large and are newly initialized: ['roberta.pooler.dense.bias', 'roberta.pooler.dense.weight']\n",
      "You should probably TRAIN this model on a down-stream task to be able to use it for predictions and inference.\n"
     ]
    },
    {
     "name": "stdout",
     "output_type": "stream",
     "text": [
      "MAUDE Raw Response: 0.9\n",
      "GEval (Relevance) Raw Response: 0.95\n",
      "GEval (Coherence) Raw Response: 0.90\n"
     ]
    },
    {
     "name": "stderr",
     "output_type": "stream",
     "text": [
      "Some weights of RobertaModel were not initialized from the model checkpoint at roberta-large and are newly initialized: ['roberta.pooler.dense.bias', 'roberta.pooler.dense.weight']\n",
      "You should probably TRAIN this model on a down-stream task to be able to use it for predictions and inference.\n"
     ]
    },
    {
     "name": "stdout",
     "output_type": "stream",
     "text": [
      "MAUDE Raw Response: 1\n",
      "GEval (Relevance) Raw Response: 0.95\n",
      "GEval (Coherence) Raw Response: 0.90\n"
     ]
    },
    {
     "name": "stderr",
     "output_type": "stream",
     "text": [
      "Some weights of RobertaModel were not initialized from the model checkpoint at roberta-large and are newly initialized: ['roberta.pooler.dense.bias', 'roberta.pooler.dense.weight']\n",
      "You should probably TRAIN this model on a down-stream task to be able to use it for predictions and inference.\n"
     ]
    },
    {
     "name": "stdout",
     "output_type": "stream",
     "text": [
      "MAUDE Raw Response: 0.9\n",
      "GEval (Relevance) Raw Response: 0.80\n",
      "GEval (Coherence) Raw Response: 0.90\n",
      "Salary change: 4.0551500405515%\n",
      "Metrics saved to model_1_metrics_base.csv for ConversationID d5566450-a114-4e65-85b0-ada99ef59256\n",
      "Metrics saved to model_2_metrics_base.csv for ConversationID d5566450-a114-4e65-85b0-ada99ef59256\n",
      "Successfully saved scenario for ConversationID d5566450-a114-4e65-85b0-ada99ef59256 to negotiation_scenarios_base.csv\n",
      "Run 4 Summary:\n",
      "Initial Salary: $123300\n",
      "Desired Salary: $133300.0\n",
      "Final Offer: $128300.0\n",
      "Turn 1 (HR Manager):\n",
      "We value your contributions and are committed to finding a solution that acknowledges your role while aligning with our current budget constraints. While a direct salary increase to $55,200 isn't feasible at the moment, we can explore alternative paths to enhance your compensation package. One possibility is a performancebased bonus structure that could reward you for exceptional contributions. Additionally, we can consider a phased salary increase, starting with an immediate 3% raise, with the potential for further adjustments in six months based on performance and company growth. Moreover, we offer nonmonetary benefits that might interest you, such as additional professional development opportunities, flexible working arrangements, or extra paid time off, which can enhance your overall job satisfaction. Let's continue this conversation to determine the best mix of these options to meet your needs\n",
      "Extracted Matches: ['$55,200']\n",
      "No keywords matched. Using first extracted match as fallback: $55,200\n",
      "Turn 2 (Employee):\n",
      "To build on these ideas, I propose the following: 1. PerformanceBased Bonus: Let's establish clear, measurable goals that align with the company's objectives, with a bonus structure that allows for quarterly assessments and rewards. This ensures that my contributions directly benefit both the company and myself. 2. Phased Salary Increase: While the immediate 3% raise is a positive start, could we consider a more aggressive timeline for review, perhaps revisiting the salary adjustment in three months instead of six? This would provide a quicker opportunity to align my salary more closely with my desired amount based on my performance. 3. Professional Development: I'd be interested in accessing more substantial professional development opportunities, such as attending industry conferences or enrolling in relevant courses, which could enhance my skills and contribute to the company's growth. 4. Flexible Work Arrangements: An option for\n",
      "Turn 3 (HR Manager):\n",
      "Let's build on this dialogue to craft a compensation package that supports your growth and aligns with company goals. 1. PerformanceBased Bonus: We can indeed set quarterly goals that align with our strategic objectives. This approach not only motivates but also rewards you for your exceptional contributions. We'll work together to define these goals and create a transparent assessment process. 2. Phased Salary Increase: While a threemonth review is aggressive, I propose a compromise. Let's set a fourmonth timeline for the next evaluation. This period allows us to assess performance effectively and consider market conditions for any potential salary adjustments. 3. Professional Development: We are committed to supporting your career growth. In addition to industry conferences and courses, let's explore mentorship opportunities within the company. This could provide valuable insights and foster skills development, benefiting both you and the organization. 4. Flexible Work Arrangements: We understand the importance of worklife balance and are open to\n",
      "Turn 4 (Employee):\n",
      "I'm eager to find a balanced approach that aligns with both my career aspirations and the company's objectives. Here are a few additional ideas: 1. Enhanced PerformanceBased Bonus: In addition to quarterly goals, could we consider a tiered bonus system that offers increasing rewards based on the level of achievement? This would provide additional motivation and recognize varying levels of exceptional performance. 2. Accelerated Skill Development: Could we also consider a budget for professional certification programs? These certifications can directly enhance my capabilities and drive more value for the company. 3. Tailored Flexible Work Arrangements: Flexibility is crucial for productivity and wellbeing. Could we explore a pilot program where I can occasionally work remotely or have adjustable start and end times? This would maintain my worklife balance while ensuring high productivity. 4. Recognition Program: Instituting a formal employee recognition program could further enhance motivation. Recognizing contributions\n",
      "Turn 5 (HR Manager):\n",
      "Let's refine our approach to create a comprehensive package that meets both your aspirations and our company's strategic goals: 1. Tiered PerformanceBased Bonus: Implementing a tiered bonus system is a compelling idea. We can establish a structure where the bonuses increase with the level of achievement, ensuring that exceptional performance is rewarded. This initiative will drive higher engagement and productivity. 2. Professional Certification Support: We are open to supporting your pursuit of certifications that align with your role and the company's needs. Let's allocate a specific budget towards these programs, and evaluate their impact on your performance and contribution to the company. 3. Flexible Work Pilot Program: To address your need for flexibility, we propose launching a pilot program that allows for occasional remote work and adjustable hours. We will monitor its effectiveness in maintaining productivity and worklife balance, potentially expanding it based on positive outcomes. 4. Formal Recognition Program: Developing a structured employee recognition program is indeed a valuable initiative. We will explore ways to\n",
      "Turn 6 (Employee):\n",
      "Here are a few additional ideas to consider: 1. Longterm Incentive Plan: In addition to the tiered performancebased bonus, we could explore a longterm incentive plan that includes stock options or profitsharing. This would align my success directly with the company's performance over the long term and deepen my commitment to our shared goals. 2. Leadership Development Opportunities: As part of my career progression, access to leadership development programs could be invaluable. This could include shadowing executives, participating in leadership workshops, or even rotational assignments across departments to broaden my organizational understanding. 3. Health and Wellness Initiatives: Enhancing health and wellness benefits could further support employee productivity. Initiatives such as gym memberships, wellness days, or mental health resources could foster a more balanced and engaged workforce. 4. Innovation Days: Introducing periodic innovation days where employees can work on passion projects or new\n",
      "Evaluation Bot Outcome: No Agreement\n",
      "Turn 7 (HR Manager):\n",
      "As we continue to refine this compensation package, let's explore innovative solutions that align with both your aspirations and the company's objectives: 1. Longterm Incentive Plan: In addition to a tiered bonus system, we can consider a profitsharing model. This will align your interests with the company’s success, incentivizing shared growth and longterm commitment. 2. Leadership Development: We could formalize a leadership track program that includes executive mentorship, crossdepartmental projects, and leadership workshops. This will not only enhance your skills but also prepare you for future leadership roles within the company. 3. Health and Wellness Initiatives: To support overall wellbeing, let's introduce a wellness package that includes gym membership discounts, mental health support, and wellness days. This initiative will ensure a healthier, more engaged workforce. 4. Innovation Days: We can initiate quarterly \"Innovation Days\" where you can focus on passion projects or new ideas that could benefit the company. This will foster\n",
      "Evaluation Bot Outcome: Agreement\n",
      "Final HR Manager Turn:\n",
      "Agreement Reached: I'm thrilled that we could reach an agreement that aligns with both your aspirations and the company's goals. The terms we've agreed upon reflect our mutual commitment to your growth and success within the organization. Your contributions have been invaluable, and I am confident that this new chapter will bring even greater achievements. We are excited to continue supporting you in your journey and look forward to seeing the positive impact you'll make in the future. No Agreement Reached: While we were unable to reach an agreement today, I want to express my gratitude for your openness and understanding throughout the process. Your contributions to the company are highly valued, and\n",
      "Evaluation Bot Outcome: Agreement\n",
      "Successfully saved conversation with ConversationID db2b7e8f-c7fe-4d61-99f2-aed533306661 to negotiation_chats_selfplay_base.jsonl\n"
     ]
    },
    {
     "name": "stderr",
     "output_type": "stream",
     "text": [
      "Some weights of RobertaModel were not initialized from the model checkpoint at roberta-large and are newly initialized: ['roberta.pooler.dense.bias', 'roberta.pooler.dense.weight']\n",
      "You should probably TRAIN this model on a down-stream task to be able to use it for predictions and inference.\n"
     ]
    },
    {
     "name": "stdout",
     "output_type": "stream",
     "text": [
      "MAUDE Raw Response: 0.0\n",
      "GEval (Relevance) Raw Response: 0.95\n",
      "GEval (Coherence) Raw Response: 0.95\n"
     ]
    },
    {
     "name": "stderr",
     "output_type": "stream",
     "text": [
      "Some weights of RobertaModel were not initialized from the model checkpoint at roberta-large and are newly initialized: ['roberta.pooler.dense.bias', 'roberta.pooler.dense.weight']\n",
      "You should probably TRAIN this model on a down-stream task to be able to use it for predictions and inference.\n"
     ]
    },
    {
     "name": "stdout",
     "output_type": "stream",
     "text": [
      "MAUDE Raw Response: 1\n",
      "GEval (Relevance) Raw Response: 0.90\n",
      "GEval (Coherence) Raw Response: 0.90\n"
     ]
    },
    {
     "name": "stderr",
     "output_type": "stream",
     "text": [
      "Some weights of RobertaModel were not initialized from the model checkpoint at roberta-large and are newly initialized: ['roberta.pooler.dense.bias', 'roberta.pooler.dense.weight']\n",
      "You should probably TRAIN this model on a down-stream task to be able to use it for predictions and inference.\n"
     ]
    },
    {
     "name": "stdout",
     "output_type": "stream",
     "text": [
      "MAUDE Raw Response: 1\n",
      "GEval (Relevance) Raw Response: 0.95\n",
      "GEval (Coherence) Raw Response: 0.90\n"
     ]
    },
    {
     "name": "stderr",
     "output_type": "stream",
     "text": [
      "Some weights of RobertaModel were not initialized from the model checkpoint at roberta-large and are newly initialized: ['roberta.pooler.dense.bias', 'roberta.pooler.dense.weight']\n",
      "You should probably TRAIN this model on a down-stream task to be able to use it for predictions and inference.\n"
     ]
    },
    {
     "name": "stdout",
     "output_type": "stream",
     "text": [
      "MAUDE Raw Response: 1\n",
      "GEval (Relevance) Raw Response: 0.80\n",
      "GEval (Coherence) Raw Response: 0.90\n",
      "Salary change: 14.049586776859504%\n"
     ]
    },
    {
     "name": "stderr",
     "output_type": "stream",
     "text": [
      "Some weights of RobertaModel were not initialized from the model checkpoint at roberta-large and are newly initialized: ['roberta.pooler.dense.bias', 'roberta.pooler.dense.weight']\n",
      "You should probably TRAIN this model on a down-stream task to be able to use it for predictions and inference.\n"
     ]
    },
    {
     "name": "stdout",
     "output_type": "stream",
     "text": [
      "MAUDE Raw Response: 0.5\n",
      "GEval (Relevance) Raw Response: 0.95\n",
      "GEval (Coherence) Raw Response: 0.95\n"
     ]
    },
    {
     "name": "stderr",
     "output_type": "stream",
     "text": [
      "Some weights of RobertaModel were not initialized from the model checkpoint at roberta-large and are newly initialized: ['roberta.pooler.dense.bias', 'roberta.pooler.dense.weight']\n",
      "You should probably TRAIN this model on a down-stream task to be able to use it for predictions and inference.\n"
     ]
    },
    {
     "name": "stdout",
     "output_type": "stream",
     "text": [
      "MAUDE Raw Response: 1\n",
      "GEval (Relevance) Raw Response: 0.95\n",
      "GEval (Coherence) Raw Response: 0.90\n"
     ]
    },
    {
     "name": "stderr",
     "output_type": "stream",
     "text": [
      "Some weights of RobertaModel were not initialized from the model checkpoint at roberta-large and are newly initialized: ['roberta.pooler.dense.bias', 'roberta.pooler.dense.weight']\n",
      "You should probably TRAIN this model on a down-stream task to be able to use it for predictions and inference.\n"
     ]
    },
    {
     "name": "stdout",
     "output_type": "stream",
     "text": [
      "MAUDE Raw Response: 1\n",
      "GEval (Relevance) Raw Response: 0.90\n",
      "GEval (Coherence) Raw Response: 0.90\n"
     ]
    },
    {
     "name": "stderr",
     "output_type": "stream",
     "text": [
      "Some weights of RobertaModel were not initialized from the model checkpoint at roberta-large and are newly initialized: ['roberta.pooler.dense.bias', 'roberta.pooler.dense.weight']\n",
      "You should probably TRAIN this model on a down-stream task to be able to use it for predictions and inference.\n"
     ]
    },
    {
     "name": "stdout",
     "output_type": "stream",
     "text": [
      "MAUDE Raw Response: 0.9\n",
      "GEval (Relevance) Raw Response: 0.70\n",
      "GEval (Coherence) Raw Response: 0.90\n",
      "Salary change: 14.049586776859504%\n",
      "Metrics saved to model_1_metrics_base.csv for ConversationID db2b7e8f-c7fe-4d61-99f2-aed533306661\n",
      "Metrics saved to model_2_metrics_base.csv for ConversationID db2b7e8f-c7fe-4d61-99f2-aed533306661\n",
      "Successfully saved scenario for ConversationID db2b7e8f-c7fe-4d61-99f2-aed533306661 to negotiation_scenarios_base.csv\n",
      "Run 5 Summary:\n",
      "Initial Salary: $48400\n",
      "Desired Salary: $55200.0\n",
      "Final Offer: $55200.0\n",
      "Turn 1 (HR Manager):\n",
      "We value your contributions and understand the importance of aligning compensation with both your role and market standards. While the current offer stands at $54,100, we can explore alternative solutions to bridge the gap. One option could be to implement a phased salary increase, where we start with an immediate raise to a midpoint, followed by a review in six months to evaluate the possibility of further adjustments based on performance and company budget. Additionally, we could consider a performancebased bonus structure that rewards key achievements and contributions throughout the year. Furthermore, we are open to enhancing your benefits package with options such as additional vacation days, flexible working hours, or professional development opportunities. These can provide added value and support your career growth. Let's continue this dialogue to find a mutually beneficial arrangement\n",
      "Extracted Matches: ['$54,100']\n",
      "No keywords matched. Using first extracted match as fallback: $54,100\n",
      "Turn 2 (Employee):\n",
      "I How about we start with an immediate raise to a midpoint, say $56,100, and then, as you suggested, review my performance after six months? In addition to this, a performancebased bonus structure could be a great motivator, ensuring my achievements directly contribute to my compensation. Moreover, I'm excited about the prospect of additional nonmonetary benefits. Perhaps we could explore options like a professional development fund, which would help me acquire new skills that benefit both my role and the company. Flexible working hours or a few extra vacation days could also greatly enhance my worklife balance, allowing me to contribute even more effectively. I’m confident that together we can find an arrangement that aligns with both my contributions and the company’s goals. Thank you for your openness in this discussion!\n",
      "Extracted Matches: ['$56,100']\n",
      "No keywords matched. Using first extracted match as fallback: $56,100\n",
      "Turn 3 (HR Manager):\n",
      "To address your proposal, I am willing to offer an immediate raise to $56,100, as suggested. Following that, we will conduct a performance review in six months to assess further adjustments based on your contributions and the company's financial outlook. In addition to the phased raise, we can establish a performancebased bonus system that aligns with specific goals and milestones. This structure will ensure that your achievements are recognized and rewarded appropriately throughout the year. Regarding nonmonetary benefits, I agree that professional development is crucial. We can introduce an annual professional development fund, specifically allocated for courses or certifications that enhance your skillset and add value to your role. Moreover, to support your worklife balance, we can offer an additional five vacation days per year and the option for flexible working hours, where feasible. This should provide you with greater flexibility and support in managing both personal and\n",
      "Extracted Matches: ['$56,100']\n",
      "No keywords matched. Using first extracted match as fallback: $56,100\n",
      "Turn 4 (Employee):\n",
      "I'm thrilled to hear about the immediate raise to $56,100 and the performancebased bonus system. These steps The addition of a professional development fund and extra vacation days is fantastic and will undoubtedly enhance my ability to contribute effectively while maintaining a healthy worklife balance. Flexible working hours are a great plus as well! As we continue to work towards mutual growth, perhaps we could explore the possibility of an annual review of the nonmonetary benefits to ensure they remain aligned with both personal development goals and the evolving needs of the company. Additionally, a mentorship program within the company could be an excellent way to share expertise and further career development. I’m excited about the way forward and look forward to achieving our shared goals!\n",
      "Extracted Matches: ['$56,100']\n",
      "No keywords matched. Using first extracted match as fallback: $56,100\n",
      "Turn 5 (HR Manager):\n",
      "I'm pleased to hear that you're enthusiastic about the proposed adjustments to your compensation and benefits package. Your commitment to growth and development is commendable, and we're eager to support you in these endeavors. To address the suggestions you've raised, I propose that we implement an annual review process not only for your nonmonetary benefits but also for your professional development goals. This will ensure that they remain aligned with both your career aspirations and the strategic objectives of the company. In addition, I agree that a mentorship program could be highly beneficial. We can initiate the development of a structured mentorship initiative within the company, pairing you with experienced professionals to facilitate knowledge exchange and skill enhancement. This will not only foster your personal growth but also contribute to a culture of continuous learning within the organization. As we move forward, our focus will remain on creating an environment that supports both your professional journey and the company's mission. Please feel free to reach out if there are any other areas you would like to discuss. I'm confident\n",
      "Turn 6 (Employee):\n",
      "As we further refine our arrangement, I wonder if we could explore the possibility of a projectbased incentive program. This could reward team members for innovative solutions or exceptional performance in specific projects, further motivating us to excel and contribute to the company's success. Additionally, considering the evolving nature of our industry, perhaps we could pilot a quarterly innovation workshop where we brainstorm and develop new ideas. This could be a great avenue for creativity and could lead to impactful initiatives for the company. I'm enthusiastic about the mentorship program and annual reviews, as these will be invaluable in aligning my career path with the company's strategic goals. I’m excited about the journey ahead and am eager to contribute to our shared success!\n",
      "Evaluation Bot Outcome: Agreement\n",
      "Final HR Manager Turn:\n",
      "Agreement: I'm thrilled that we've reached an agreement today! We're excited to have you continue as a vital part of our team. The terms we've settled on reflect both your valuable contributions and the promising future we envision together. Your skills and dedication will undoubtedly drive us towards our shared goals. We're looking forward to seeing your continued impact and supporting your growth within the company. No Agreement: I respect your decision, and I want to express my gratitude for the open and honest discussions we've had. Your contributions are highly valued, and while we couldn't reach an agreement at this time, please know that the door is always open for future conversations. We wish you all the best in your endeavors and hope to explore opportunities together in the future\n",
      "Evaluation Bot Outcome: Agreement\n",
      "Successfully saved conversation with ConversationID 17a9f08d-9bd3-4604-8d5f-b55c3208e688 to negotiation_chats_selfplay_base.jsonl\n"
     ]
    },
    {
     "name": "stderr",
     "output_type": "stream",
     "text": [
      "Some weights of RobertaModel were not initialized from the model checkpoint at roberta-large and are newly initialized: ['roberta.pooler.dense.bias', 'roberta.pooler.dense.weight']\n",
      "You should probably TRAIN this model on a down-stream task to be able to use it for predictions and inference.\n"
     ]
    },
    {
     "name": "stdout",
     "output_type": "stream",
     "text": [
      "MAUDE Raw Response: 0.0\n",
      "GEval (Relevance) Raw Response: 0.95\n",
      "GEval (Coherence) Raw Response: 0.95\n"
     ]
    },
    {
     "name": "stderr",
     "output_type": "stream",
     "text": [
      "Some weights of RobertaModel were not initialized from the model checkpoint at roberta-large and are newly initialized: ['roberta.pooler.dense.bias', 'roberta.pooler.dense.weight']\n",
      "You should probably TRAIN this model on a down-stream task to be able to use it for predictions and inference.\n"
     ]
    },
    {
     "name": "stdout",
     "output_type": "stream",
     "text": [
      "MAUDE Raw Response: 1\n",
      "GEval (Relevance) Raw Response: 0.90\n",
      "GEval (Coherence) Raw Response: 0.95\n"
     ]
    },
    {
     "name": "stderr",
     "output_type": "stream",
     "text": [
      "Some weights of RobertaModel were not initialized from the model checkpoint at roberta-large and are newly initialized: ['roberta.pooler.dense.bias', 'roberta.pooler.dense.weight']\n",
      "You should probably TRAIN this model on a down-stream task to be able to use it for predictions and inference.\n"
     ]
    },
    {
     "name": "stdout",
     "output_type": "stream",
     "text": [
      "MAUDE Raw Response: 0.9\n",
      "GEval (Relevance) Raw Response: 0.90\n",
      "GEval (Coherence) Raw Response: 0.90\n"
     ]
    },
    {
     "name": "stderr",
     "output_type": "stream",
     "text": [
      "Some weights of RobertaModel were not initialized from the model checkpoint at roberta-large and are newly initialized: ['roberta.pooler.dense.bias', 'roberta.pooler.dense.weight']\n",
      "You should probably TRAIN this model on a down-stream task to be able to use it for predictions and inference.\n"
     ]
    },
    {
     "name": "stdout",
     "output_type": "stream",
     "text": [
      "MAUDE Raw Response: 0.8\n",
      "GEval (Relevance) Raw Response: 0.70\n",
      "GEval (Coherence) Raw Response: 0.90\n",
      "Salary change: 3.6968576709796674%\n"
     ]
    },
    {
     "name": "stderr",
     "output_type": "stream",
     "text": [
      "Some weights of RobertaModel were not initialized from the model checkpoint at roberta-large and are newly initialized: ['roberta.pooler.dense.bias', 'roberta.pooler.dense.weight']\n",
      "You should probably TRAIN this model on a down-stream task to be able to use it for predictions and inference.\n"
     ]
    },
    {
     "name": "stdout",
     "output_type": "stream",
     "text": [
      "MAUDE Raw Response: 0\n",
      "GEval (Relevance) Raw Response: 0.95\n",
      "GEval (Coherence) Raw Response: 0.95\n"
     ]
    },
    {
     "name": "stderr",
     "output_type": "stream",
     "text": [
      "Some weights of RobertaModel were not initialized from the model checkpoint at roberta-large and are newly initialized: ['roberta.pooler.dense.bias', 'roberta.pooler.dense.weight']\n",
      "You should probably TRAIN this model on a down-stream task to be able to use it for predictions and inference.\n"
     ]
    },
    {
     "name": "stdout",
     "output_type": "stream",
     "text": [
      "MAUDE Raw Response: 1\n",
      "GEval (Relevance) Raw Response: 0.95\n",
      "GEval (Coherence) Raw Response: 0.95\n"
     ]
    },
    {
     "name": "stderr",
     "output_type": "stream",
     "text": [
      "Some weights of RobertaModel were not initialized from the model checkpoint at roberta-large and are newly initialized: ['roberta.pooler.dense.bias', 'roberta.pooler.dense.weight']\n",
      "You should probably TRAIN this model on a down-stream task to be able to use it for predictions and inference.\n"
     ]
    },
    {
     "name": "stdout",
     "output_type": "stream",
     "text": [
      "MAUDE Raw Response: 0.5\n",
      "GEval (Relevance) Raw Response: 0.70\n",
      "GEval (Coherence) Raw Response: 0.95\n"
     ]
    },
    {
     "name": "stderr",
     "output_type": "stream",
     "text": [
      "Some weights of RobertaModel were not initialized from the model checkpoint at roberta-large and are newly initialized: ['roberta.pooler.dense.bias', 'roberta.pooler.dense.weight']\n",
      "You should probably TRAIN this model on a down-stream task to be able to use it for predictions and inference.\n"
     ]
    },
    {
     "name": "stdout",
     "output_type": "stream",
     "text": [
      "MAUDE Raw Response: 0.5\n",
      "GEval (Relevance) Raw Response: 0.70\n",
      "GEval (Coherence) Raw Response: 0.90\n",
      "Salary change: 3.6968576709796674%\n",
      "Metrics saved to model_1_metrics_base.csv for ConversationID 17a9f08d-9bd3-4604-8d5f-b55c3208e688\n",
      "Metrics saved to model_2_metrics_base.csv for ConversationID 17a9f08d-9bd3-4604-8d5f-b55c3208e688\n",
      "Successfully saved scenario for ConversationID 17a9f08d-9bd3-4604-8d5f-b55c3208e688 to negotiation_scenarios_base.csv\n",
      "Run 6 Summary:\n",
      "Initial Salary: $54100\n",
      "Desired Salary: $59100.0\n",
      "Final Offer: $56100.0\n",
      "Turn 1 (Employee):\n",
      "I While I understand the current offer matches my existing salary, I believe we can find a mutually beneficial path forward. To bridge the gap, perhaps we could consider a phased raise approach, where my salary is increased incrementally over the next year to reach my desired amount. Additionally, a performancebased bonus structure could align our goals and reward exceptional results. Furthermore, I am open to exploring nonmonetary benefits, such as flexible working arrangements or additional professional development opportunities, which would enhance my ability to contribute even more effectively. I am confident we can arrive at a solution that reflects my value to the company while supporting its financial goals\n",
      "Turn 2 (HR Manager):\n",
      "We appreciate your dedication and are eager to find a solution that aligns with both your aspirations and the company's objectives. Here's a proposal that may work for both parties: 1. Phased Salary Increase: We can implement a structured plan to incrementally raise your salary over the next 12 months, with an initial increase of 2% in the next quarter, followed by performance evaluations that could lead to further increments. 2. PerformanceBased Bonus: We will introduce a quarterly performancebased bonus system that rewards exceptional contributions, allowing you to potentially earn up to an additional 10% of your annual salary. 3. NonMonetary Benefits: We are open to enhancing your work experience with flexible working hours and additional opportunities for professional development and training, which can further enhance your skills and career growth. We believe this approach not only moves toward your desired salary but also aligns with our shared goals of excellence and growth. Let's continue this dialogue to ensure\n",
      "Turn 3 (Employee):\n",
      "These steps certainly align with my aspirations for growth and recognition. To further enhance this proposal, perhaps we could define clear milestones for each performance evaluation, ensuring transparency and mutual understanding of expectations. This could include specific objectives or projects that would trigger the incremental raises. Additionally, in terms of nonmonetary benefits, I would be thrilled if we could formalize a mentorship program, where I could both mentor newer employees and learn from more experienced colleagues. This would not only contribute to personal development but also foster a culture of knowledge sharing within the company. Lastly, considering the company's investment in my professional development, I propose a quarterly review to discuss progress and adjust goals as needed. This would ensure that both my contributions and the company’s support are aligned and adaptive to any changes in our business environment. I am optimistic that with these enhancements, we can reach a solution that\n",
      "Turn 4 (HR Manager):\n",
      "Your proactive approach to this negotiation is commendable, and I believe we can incorporate your ideas to further enrich our proposal. Here's how we can enhance our plan: 1. MilestoneBased Performance Evaluations: We will establish clear, measurable objectives for each performance evaluation, ensuring transparency and alignment. These milestones will not only serve as checkpoints for your salary increments but also drive your professional growth within the company. 2. Mentorship Program: I'm excited to propose the initiation of a formal mentorship program. This program will facilitate knowledge sharing and foster collaboration across teams. By mentoring new employees and learning from seasoned colleagues, you will play a pivotal role in strengthening our company culture. 3. Quarterly Development Reviews: Let's implement quarterly reviews to assess your progress and adapt goals as needed. These sessions will ensure that your growth trajectory aligns with the company's evolving business landscape, keeping both your contributions and our support in sync. 4. Additional Incent\n",
      "Turn 5 (Employee):\n",
      "To further solidify our partnership, I propose the introduction of a projectbased incentive program. This program could reward successful completion of key projects with bonuses or additional time off, which would not only motivate but also recognize the hard work and dedication required to achieve company milestones. Additionally, considering the dynamic nature of our industry, perhaps we could initiate a biannual innovation workshop. This would be an opportunity for employees to present new ideas and strategies, fostering a culture of creativity and driving the company forward. Participation could be incentivized with rewards or recognition, further aligning personal growth with company success. Lastly, I suggest the possibility of a wellness stipend, which could be used for healthrelated activities or resources. This would demonstrate the company's commitment to the holistic wellbeing of its employees, ultimately enhancing productivity and satisfaction. I am confident that these creative solutions will not only benefit us individually but also contribute significantly to the company's longterm\n",
      "Turn 6 (HR Manager):\n",
      "I Here are some additional enhancements we can integrate into our proposal: 1. ProjectBased Incentive Program: Let's introduce a program that offers bonuses or additional time off for the successful completion of key projects. This will not only recognize your hard work but also encourage the pursuit of excellence in achieving our company milestones. 2. Biannual Innovation Workshops: Your idea for innovation workshops is excellent. We'll initiate these sessions to encourage the sharing of new ideas and strategies. Participation will be incentivized with rewards, fostering a culture of creativity and progress. 3. Wellness Stipend: We are committed to supporting our employees' holistic wellbeing. Introducing a wellness stipend that can be used for healthrelated activities or resources is a great way to demonstrate this commitment, ultimately enhancing productivity and job satisfaction. 4. Flexible Goal Adjustment: Alongside quarterly development reviews, we can implement a flexible goal\n",
      "Evaluation Bot Outcome: Agreement\n",
      "Final HR Manager Turn:\n",
      "Agreement: I am thrilled that we've reached an agreement today. Your skills and dedication are We look forward to your continued contributions and the positive impact you will undoubtedly make. No Agreement: I respect your decision and appreciate the open dialogue we've had throughout this negotiation. Your contributions are important to us, and we are grateful for your continued dedication. Please know that the door is always open for future discussions, and we would be happy to revisit this conversation at any time\n",
      "Evaluation Bot Outcome: Agreement\n",
      "Successfully saved conversation with ConversationID 58ea45f3-608a-4ef4-9a75-9a936fef6690 to negotiation_chats_selfplay_base.jsonl\n"
     ]
    },
    {
     "name": "stderr",
     "output_type": "stream",
     "text": [
      "Some weights of RobertaModel were not initialized from the model checkpoint at roberta-large and are newly initialized: ['roberta.pooler.dense.bias', 'roberta.pooler.dense.weight']\n",
      "You should probably TRAIN this model on a down-stream task to be able to use it for predictions and inference.\n"
     ]
    },
    {
     "name": "stdout",
     "output_type": "stream",
     "text": [
      "MAUDE Raw Response: 0.5\n",
      "GEval (Relevance) Raw Response: 0.95\n",
      "GEval (Coherence) Raw Response: 0.90\n"
     ]
    },
    {
     "name": "stderr",
     "output_type": "stream",
     "text": [
      "Some weights of RobertaModel were not initialized from the model checkpoint at roberta-large and are newly initialized: ['roberta.pooler.dense.bias', 'roberta.pooler.dense.weight']\n",
      "You should probably TRAIN this model on a down-stream task to be able to use it for predictions and inference.\n"
     ]
    },
    {
     "name": "stdout",
     "output_type": "stream",
     "text": [
      "MAUDE Raw Response: 1\n",
      "GEval (Relevance) Raw Response: 0.80\n",
      "GEval (Coherence) Raw Response: 0.95\n"
     ]
    },
    {
     "name": "stderr",
     "output_type": "stream",
     "text": [
      "Some weights of RobertaModel were not initialized from the model checkpoint at roberta-large and are newly initialized: ['roberta.pooler.dense.bias', 'roberta.pooler.dense.weight']\n",
      "You should probably TRAIN this model on a down-stream task to be able to use it for predictions and inference.\n"
     ]
    },
    {
     "name": "stdout",
     "output_type": "stream",
     "text": [
      "MAUDE Raw Response: 0.8\n",
      "GEval (Relevance) Raw Response: 0.70\n",
      "GEval (Coherence) Raw Response: 0.90\n",
      "No change in salary: Initial = 98600, Final = 98600\n"
     ]
    },
    {
     "name": "stderr",
     "output_type": "stream",
     "text": [
      "Some weights of RobertaModel were not initialized from the model checkpoint at roberta-large and are newly initialized: ['roberta.pooler.dense.bias', 'roberta.pooler.dense.weight']\n",
      "You should probably TRAIN this model on a down-stream task to be able to use it for predictions and inference.\n"
     ]
    },
    {
     "name": "stdout",
     "output_type": "stream",
     "text": [
      "MAUDE Raw Response: 0\n",
      "GEval (Relevance) Raw Response: 0.95\n",
      "GEval (Coherence) Raw Response: 0.95\n"
     ]
    },
    {
     "name": "stderr",
     "output_type": "stream",
     "text": [
      "Some weights of RobertaModel were not initialized from the model checkpoint at roberta-large and are newly initialized: ['roberta.pooler.dense.bias', 'roberta.pooler.dense.weight']\n",
      "You should probably TRAIN this model on a down-stream task to be able to use it for predictions and inference.\n"
     ]
    },
    {
     "name": "stdout",
     "output_type": "stream",
     "text": [
      "MAUDE Raw Response: 1\n",
      "GEval (Relevance) Raw Response: 0.95\n",
      "GEval (Coherence) Raw Response: 0.90\n"
     ]
    },
    {
     "name": "stderr",
     "output_type": "stream",
     "text": [
      "Some weights of RobertaModel were not initialized from the model checkpoint at roberta-large and are newly initialized: ['roberta.pooler.dense.bias', 'roberta.pooler.dense.weight']\n",
      "You should probably TRAIN this model on a down-stream task to be able to use it for predictions and inference.\n"
     ]
    },
    {
     "name": "stdout",
     "output_type": "stream",
     "text": [
      "MAUDE Raw Response: 0.9\n",
      "GEval (Relevance) Raw Response: 0.80\n",
      "GEval (Coherence) Raw Response: 0.90\n"
     ]
    },
    {
     "name": "stderr",
     "output_type": "stream",
     "text": [
      "Some weights of RobertaModel were not initialized from the model checkpoint at roberta-large and are newly initialized: ['roberta.pooler.dense.bias', 'roberta.pooler.dense.weight']\n",
      "You should probably TRAIN this model on a down-stream task to be able to use it for predictions and inference.\n"
     ]
    },
    {
     "name": "stdout",
     "output_type": "stream",
     "text": [
      "MAUDE Raw Response: 0.9\n",
      "GEval (Relevance) Raw Response: 0.70\n",
      "GEval (Coherence) Raw Response: 0.80\n",
      "No change in salary: Initial = 98600, Final = 98600\n",
      "Metrics saved to model_1_metrics_base.csv for ConversationID 58ea45f3-608a-4ef4-9a75-9a936fef6690\n",
      "Metrics saved to model_2_metrics_base.csv for ConversationID 58ea45f3-608a-4ef4-9a75-9a936fef6690\n",
      "Successfully saved scenario for ConversationID 58ea45f3-608a-4ef4-9a75-9a936fef6690 to negotiation_scenarios_base.csv\n",
      "Run 7 Summary:\n",
      "Initial Salary: $98600\n",
      "Desired Salary: $104100.0\n",
      "Final Offer: $98600\n",
      "Turn 1 (Employee):\n",
      "I While I understand the current offer matches my present salary, I'd like to propose a creative approach to bridge the gap between my desired salary and the company's offer. One option could be a phased salary increase over the next year, allowing the company to adjust financially while moving towards the $133,500 mark. Additionally, I would be open to discussing a performancebased bonus structure, which would align my compensation with the value I deliver to the company. Moreover, exploring nonmonetary benefits could be mutually beneficial. For instance, increased professional development opportunities or flexible working arrangements could enhance my effectiveness and satisfaction, ultimately benefiting the company. I am eager to hear your thoughts on these ideas and work together towards a solution that supports both my career goals and the company's objectives\n",
      "Extracted Matches: ['$133,500']\n",
      "No keywords matched. Using first extracted match as fallback: $133,500\n",
      "Turn 2 (HR Manager):\n",
      "We appreciate your proactive approach and are committed to finding a solution that aligns with both your aspirations and our organizational goals. To address the salary gap creatively, we can indeed explore a phased salary increase. This approach allows us to gradually reach your desired salary of $133,500 over a set period, perhaps in quarterly increments, ensuring financial balance for the company. Regarding a performancebased bonus structure, we can design a plan where specific milestones or achievements unlock bonus opportunities. This not only aligns compensation with your contributions but also encourages ongoing excellence and innovation. Moreover, we can enhance your professional development by offering specialized training programs or covering the costs of relevant certifications. Additionally, we can explore flexible work arrangements to support your worklife balance, which we believe can significantly boost productivity and job satisfaction. Let's continue this dialogue and collaborate on a detailed plan that meets both your professional growth and the company's strategic objectives\n",
      "Extracted Matches: ['$133,500']\n",
      "No keywords matched. Using first extracted match as fallback: $133,500\n",
      "Turn 3 (Employee):\n",
      "I'm pleased with the idea of a phased salary increase and the potential for a performancebased bonus structure. To further enhance our agreement, I propose the following: 1. Equity Participation: Introducing an equity component could align my longterm growth with the company's success, offering a vested interest in our collective achievements. 2. Skill Development Sabbatical: An opportunity for a short sabbatical dedicated to skill enhancement or pursuing a relevant project could add significant value to my role and the company's innovation capabilities. 3. Mentorship Opportunities: Facilitating a mentorship program where I mentor new team members or collaborate on crossdepartmental projects could leverage my expertise while fostering a collaborative culture. 4. Health and Wellness Benefits: Enhanced wellness programs, such as gym memberships or mental health support, could ensure sustained productivity and wellbeing. I believe these additional elements could fortify our agreement, driving both personal and organizational success\n",
      "Turn 4 (HR Manager):\n",
      "Your dedication to aligning personal growth with the company's vision is Let's take a closer look at your proposals and how we can integrate them effectively: 1. Equity Participation: We can explore introducing an equity component as part of your compensation package. This could be structured as stock options or restricted stock units, providing a tangible connection between your success and the company's performance. 2. Skill Development Sabbatical: We understand the value of continuous learning and innovation. We can create a tailored plan for a skill development sabbatical, perhaps integrating it with a strategic project that aligns with our business objectives, ensuring that both you and the company benefit from this initiative. 3. Mentorship Opportunities: Establishing a mentorship program is a winwin. We can formalize a framework where you lead crossdepartmental collaborations or mentoring sessions, which would enhance team synergy and leverage your expertise to inspire newer team members. 4\n",
      "Turn 5 (Employee):\n",
      "I am excited about the potential for equity participation and the skill development sabbatical. To add to our evolving agreement, I would like to propose a few additional ideas: 1. Innovation Incentive Program: We could introduce a quarterly innovation challenge where employees can propose ideas to enhance our products or processes. Successful proposals could be rewarded with bonuses or additional paid time off. 2. CrossTraining Initiatives: Implementing a crosstraining program could not only broaden my skill set but also enhance team adaptability and resilience. This would prepare us to tackle diverse challenges and foster a culture of continuous learning. 3. Wellness Days: Introducing periodic wellness days focused on relaxation and team bonding could boost morale and productivity. Activities like team sports or wellness workshops could encourage a healthy worklife balance. 4. Technology Allowance: Providing a technology stipend for home office improvements or personal productivity tools could enhance efficiency and job satisfaction,\n",
      "Turn 6 (HR Manager):\n",
      "Your suggestions reflect a strong commitment to both personal and organizational growth. Let's explore these new ideas further: 1. Innovation Incentive Program: I am thrilled about the potential of an innovation challenge. We could set up a quarterly event where employees present their innovative ideas. Successful proposals could receive not only bonuses but also recognition at company meetings, fostering a culture of innovation. 2. CrossTraining Initiatives: Crosstraining is a fantastic way to build a versatile team. We could organize regular workshops where employees can learn from different departments, enhancing adaptability and fostering a deeper understanding of our operations. 3. Wellness Days: Wellness is crucial for sustained productivity. Implementing periodic wellness days with teambuilding activities could indeed boost morale. We could also consider virtual wellness workshops, ensuring everyone can participate regardless of location. 4. Technology Allowance: Supporting your home office setup is a great idea. We could introduce an\n",
      "Evaluation Bot Outcome: Agreement\n",
      "Final HR Manager Turn:\n",
      "Agreement: I'm thrilled that we've come to an agreement today. We're excited to have you continue as a valued member of our team, and we're confident that the terms we've settled on will support both your professional growth and our organization's goals. Your contributions have always been significant, and we look forward to seeing how you'll continue to drive success in your role. No Agreement: I understand and respect your decision. I want to express our sincere gratitude for the time and effort you've invested in these discussions. While we haven't reached an agreement today, we appreciate your openness and professionalism. Please know that the door is always open for future conversations, and we hope to explore opportunities together down the line. Thank you once again\n",
      "Evaluation Bot Outcome: Agreement\n",
      "Successfully saved conversation with ConversationID c57a6361-4719-4b45-86a4-7316e63b2042 to negotiation_chats_selfplay_base.jsonl\n"
     ]
    },
    {
     "name": "stderr",
     "output_type": "stream",
     "text": [
      "Some weights of RobertaModel were not initialized from the model checkpoint at roberta-large and are newly initialized: ['roberta.pooler.dense.bias', 'roberta.pooler.dense.weight']\n",
      "You should probably TRAIN this model on a down-stream task to be able to use it for predictions and inference.\n"
     ]
    },
    {
     "name": "stdout",
     "output_type": "stream",
     "text": [
      "MAUDE Raw Response: 0\n",
      "GEval (Relevance) Raw Response: 0.95\n",
      "GEval (Coherence) Raw Response: 0.95\n"
     ]
    },
    {
     "name": "stderr",
     "output_type": "stream",
     "text": [
      "Some weights of RobertaModel were not initialized from the model checkpoint at roberta-large and are newly initialized: ['roberta.pooler.dense.bias', 'roberta.pooler.dense.weight']\n",
      "You should probably TRAIN this model on a down-stream task to be able to use it for predictions and inference.\n"
     ]
    },
    {
     "name": "stdout",
     "output_type": "stream",
     "text": [
      "MAUDE Raw Response: 0.9\n",
      "GEval (Relevance) Raw Response: 0.70\n",
      "GEval (Coherence) Raw Response: 0.95\n"
     ]
    },
    {
     "name": "stderr",
     "output_type": "stream",
     "text": [
      "Some weights of RobertaModel were not initialized from the model checkpoint at roberta-large and are newly initialized: ['roberta.pooler.dense.bias', 'roberta.pooler.dense.weight']\n",
      "You should probably TRAIN this model on a down-stream task to be able to use it for predictions and inference.\n"
     ]
    },
    {
     "name": "stdout",
     "output_type": "stream",
     "text": [
      "MAUDE Raw Response: 0.5\n",
      "GEval (Relevance) Raw Response: 0.60\n",
      "GEval (Coherence) Raw Response: 0.90\n",
      "Salary change: 24.417520969245107%\n"
     ]
    },
    {
     "name": "stderr",
     "output_type": "stream",
     "text": [
      "Some weights of RobertaModel were not initialized from the model checkpoint at roberta-large and are newly initialized: ['roberta.pooler.dense.bias', 'roberta.pooler.dense.weight']\n",
      "You should probably TRAIN this model on a down-stream task to be able to use it for predictions and inference.\n"
     ]
    },
    {
     "name": "stdout",
     "output_type": "stream",
     "text": [
      "MAUDE Raw Response: 0\n",
      "GEval (Relevance) Raw Response: 0.95\n",
      "GEval (Coherence) Raw Response: 0.95\n"
     ]
    },
    {
     "name": "stderr",
     "output_type": "stream",
     "text": [
      "Some weights of RobertaModel were not initialized from the model checkpoint at roberta-large and are newly initialized: ['roberta.pooler.dense.bias', 'roberta.pooler.dense.weight']\n",
      "You should probably TRAIN this model on a down-stream task to be able to use it for predictions and inference.\n"
     ]
    },
    {
     "name": "stdout",
     "output_type": "stream",
     "text": [
      "MAUDE Raw Response: 1\n",
      "GEval (Relevance) Raw Response: 0.90\n",
      "GEval (Coherence) Raw Response: 0.95\n"
     ]
    },
    {
     "name": "stderr",
     "output_type": "stream",
     "text": [
      "Some weights of RobertaModel were not initialized from the model checkpoint at roberta-large and are newly initialized: ['roberta.pooler.dense.bias', 'roberta.pooler.dense.weight']\n",
      "You should probably TRAIN this model on a down-stream task to be able to use it for predictions and inference.\n"
     ]
    },
    {
     "name": "stdout",
     "output_type": "stream",
     "text": [
      "MAUDE Raw Response: 0.7\n",
      "GEval (Relevance) Raw Response: 0.70\n",
      "GEval (Coherence) Raw Response: 0.80\n"
     ]
    },
    {
     "name": "stderr",
     "output_type": "stream",
     "text": [
      "Some weights of RobertaModel were not initialized from the model checkpoint at roberta-large and are newly initialized: ['roberta.pooler.dense.bias', 'roberta.pooler.dense.weight']\n",
      "You should probably TRAIN this model on a down-stream task to be able to use it for predictions and inference.\n"
     ]
    },
    {
     "name": "stdout",
     "output_type": "stream",
     "text": [
      "MAUDE Raw Response: 0.5\n",
      "GEval (Relevance) Raw Response: 0.60\n",
      "GEval (Coherence) Raw Response: 0.90\n",
      "Salary change: 24.417520969245107%\n",
      "Metrics saved to model_1_metrics_base.csv for ConversationID c57a6361-4719-4b45-86a4-7316e63b2042\n",
      "Metrics saved to model_2_metrics_base.csv for ConversationID c57a6361-4719-4b45-86a4-7316e63b2042\n",
      "Successfully saved scenario for ConversationID c57a6361-4719-4b45-86a4-7316e63b2042 to negotiation_scenarios_base.csv\n",
      "Run 8 Summary:\n",
      "Initial Salary: $107300\n",
      "Desired Salary: $133500.0\n",
      "Final Offer: $133500.0\n",
      "Turn 1 (Employee):\n",
      "While I understand the current offer matches my current salary, I believe there is room for us to explore mutually beneficial options. One possibility could be to implement a phased salary increase that gradually brings my compensation closer to the desired $137,000 over the coming year. This allows the company to manage budget concerns while moving towards a more competitive salary for my role. Additionally, perhaps we could consider a performancebased bonus structure tied to specific milestones or company goals. This would incentivize my continued strong contributions and align my interests with the company's success. Lastly, exploring nonmonetary benefits might also add value. Opportunities for professional development, more flexible working arrangements, or increased vacation days could enhance my overall job satisfaction. I am open to discussing these or any other ideas that might bridge the gap between the current offer and my expectations. Thank you again for valuing my\n",
      "Extracted Matches: ['$137,000']\n",
      "No keywords matched. Using first extracted match as fallback: $137,000\n",
      "Turn 2 (HR Manager):\n",
      "We appreciate your flexibility and willingness to explore various avenues. To bridge the gap between our current offer and your desired salary, we propose a phased salary increase. We can start with an immediate increase to $132,000 and plan incremental raises over the next year, contingent on performance reviews and company performance. Additionally, we are open to discussing a performancebased bonus structure. Achieving specific milestones could trigger bonuses, aligning your contributions with company goals. As for nonmonetary benefits, we can explore options such as additional professional development opportunities, enhanced flexible work arrangements, and the possibility of increased vacation days. We believe these measures will align our mutual interests and enhance your overall job satisfaction while maintaining financial responsibility. Please let us know your thoughts on these proposals\n",
      "Extracted Matches: ['$132,000']\n",
      "No keywords matched. Using first extracted match as fallback: $132,000\n",
      "Turn 3 (Employee):\n",
      "These steps demonstrate the company's commitment to recognizing and rewarding contributions effectively. To further align our interests, I would suggest the following: 1. Clear Milestone Definitions: It would be beneficial to clearly define the milestones that trigger bonuses, ensuring transparency and mutual understanding. This clarity will help me focus my efforts on the most impactful areas. 2. Quarterly Performance Reviews: Implementing quarterly reviews could provide regular feedback and adjustments, keeping the phased salary increase on track and responsive to both my performance and the company's financial health. 3. Skill Development: In addition to professional development opportunities, perhaps we could explore a mentorship program or leadership training. These could empower me to contribute at a higher level, benefiting both my career growth and the company. 4. WorkLife Integration: Exploring options for a hybrid work model could enhance job satisfaction. Having the flexibility to balance work\n",
      "Turn 4 (HR Manager):\n",
      "We are committed to creating a compensation package that aligns with both your career goals and the company’s objectives. Here’s how we propose to proceed: 1. Milestone Clarity: We will establish a detailed framework for performance milestones, ensuring transparency and a shared understanding of expectations. This will guide both your focus and our evaluation. 2. Quarterly Performance Reviews: We support your suggestion for quarterly reviews. This will allow us to provide regular feedback, make necessary adjustments, and ensure the phased salary increases align with both performance and company conditions. 3. Skill Development Opportunities: We can expand professional development to include mentorship and leadership training programs. These will be tailored to enhance your skills, supporting both your personal career growth and your value to the company. 4. Hybrid Work Model: We’re open to discussing a hybrid work model tailored to your role, promoting a better worklife integration while maintaining productivity and team collaboration. 5\n",
      "Turn 5 (Employee):\n",
      "One additional consideration could be the introduction of a projectbased bonus. This could be tied to the successful completion of specific projects or initiatives that have a significant impact on the company, providing an additional incentive for highimpact work. Furthermore, we might explore the possibility of stock options or equity participation as a longterm incentive aligned with company growth. This would not only enhance my financial commitment but also deepen my investment in the company's success. Lastly, should there be any industry conferences or workshops that align with our strategic objectives, attending these could provide both professional development and networking opportunities, further enhancing my contributions. I am optimistic about the path we are charting together and look forward to finalizing a package that reflects our shared priorities\n",
      "Turn 6 (HR Manager):\n",
      "To address your additional considerations, we propose the following: 1. ProjectBased Bonus: We are open to implementing a projectbased bonus system. This will be tied to the successful completion of key projects, fostering a focus on highimpact work that aligns with our strategic goals. 2. LongTerm Incentives: While stock options or equity participation are not typically part of our compensation package, we can explore other longterm incentives that align with company growth. This could include profitsharing or deferred compensation plans, ensuring your interests are closely tied to our success. 3. Industry Engagement: We support your interest in attending relevant industry conferences or workshops. We can cover attendance costs for events that align with our strategic objectives, enhancing both your professional development and our organizational knowledge base. We believe these additions will further align your contributions with the company’s success and enhance your career growth. Let’s continue to refine this package to ensure it meets our mutual goals\n",
      "Evaluation Bot Outcome: Agreement\n",
      "Final HR Manager Turn:\n",
      "Agreement: I'm thrilled that we've reached an agreement that benefits both you and the company. We've confirmed the terms, which include , and we're excited about the contributions you'll continue to bring to our team. Your skills and dedication are invaluable, and we're looking forward to the positive impact you'll make in your role. Welcome aboard, and let's achieve great things together! No Agreement: I understand and respect your decision, and I want to express my gratitude for the open and honest discussions we've had. While we haven't reached an agreement this time, I Please know that the door is always open for future discussions, and I hope we can explore opportunities to collaborate down the line. Thank\n",
      "Evaluation Bot Outcome: Agreement\n",
      "Successfully saved conversation with ConversationID d3d58fcb-ed54-4ae2-bc44-e6ecba8f10d2 to negotiation_chats_selfplay_base.jsonl\n"
     ]
    },
    {
     "name": "stderr",
     "output_type": "stream",
     "text": [
      "Some weights of RobertaModel were not initialized from the model checkpoint at roberta-large and are newly initialized: ['roberta.pooler.dense.bias', 'roberta.pooler.dense.weight']\n",
      "You should probably TRAIN this model on a down-stream task to be able to use it for predictions and inference.\n"
     ]
    },
    {
     "name": "stdout",
     "output_type": "stream",
     "text": [
      "MAUDE Raw Response: 0.5\n",
      "GEval (Relevance) Raw Response: 0.95\n",
      "GEval (Coherence) Raw Response: 0.95\n"
     ]
    },
    {
     "name": "stderr",
     "output_type": "stream",
     "text": [
      "Some weights of RobertaModel were not initialized from the model checkpoint at roberta-large and are newly initialized: ['roberta.pooler.dense.bias', 'roberta.pooler.dense.weight']\n",
      "You should probably TRAIN this model on a down-stream task to be able to use it for predictions and inference.\n"
     ]
    },
    {
     "name": "stdout",
     "output_type": "stream",
     "text": [
      "MAUDE Raw Response: 1\n",
      "GEval (Relevance) Raw Response: 0.80\n",
      "GEval (Coherence) Raw Response: 0.90\n"
     ]
    },
    {
     "name": "stderr",
     "output_type": "stream",
     "text": [
      "Some weights of RobertaModel were not initialized from the model checkpoint at roberta-large and are newly initialized: ['roberta.pooler.dense.bias', 'roberta.pooler.dense.weight']\n",
      "You should probably TRAIN this model on a down-stream task to be able to use it for predictions and inference.\n"
     ]
    },
    {
     "name": "stdout",
     "output_type": "stream",
     "text": [
      "MAUDE Raw Response: 1\n",
      "GEval (Relevance) Raw Response: 0.95\n",
      "GEval (Coherence) Raw Response: 0.90\n",
      "Salary change: 7.317073170731707%\n"
     ]
    },
    {
     "name": "stderr",
     "output_type": "stream",
     "text": [
      "Some weights of RobertaModel were not initialized from the model checkpoint at roberta-large and are newly initialized: ['roberta.pooler.dense.bias', 'roberta.pooler.dense.weight']\n",
      "You should probably TRAIN this model on a down-stream task to be able to use it for predictions and inference.\n"
     ]
    },
    {
     "name": "stdout",
     "output_type": "stream",
     "text": [
      "MAUDE Raw Response: 0.5\n",
      "GEval (Relevance) Raw Response: 0.95\n",
      "GEval (Coherence) Raw Response: 0.95\n"
     ]
    },
    {
     "name": "stderr",
     "output_type": "stream",
     "text": [
      "Some weights of RobertaModel were not initialized from the model checkpoint at roberta-large and are newly initialized: ['roberta.pooler.dense.bias', 'roberta.pooler.dense.weight']\n",
      "You should probably TRAIN this model on a down-stream task to be able to use it for predictions and inference.\n"
     ]
    },
    {
     "name": "stdout",
     "output_type": "stream",
     "text": [
      "MAUDE Raw Response: 1\n",
      "GEval (Relevance) Raw Response: 0.95\n",
      "GEval (Coherence) Raw Response: 0.95\n"
     ]
    },
    {
     "name": "stderr",
     "output_type": "stream",
     "text": [
      "Some weights of RobertaModel were not initialized from the model checkpoint at roberta-large and are newly initialized: ['roberta.pooler.dense.bias', 'roberta.pooler.dense.weight']\n",
      "You should probably TRAIN this model on a down-stream task to be able to use it for predictions and inference.\n"
     ]
    },
    {
     "name": "stdout",
     "output_type": "stream",
     "text": [
      "MAUDE Raw Response: 1\n",
      "GEval (Relevance) Raw Response: 0.95\n",
      "GEval (Coherence) Raw Response: 0.90\n"
     ]
    },
    {
     "name": "stderr",
     "output_type": "stream",
     "text": [
      "Some weights of RobertaModel were not initialized from the model checkpoint at roberta-large and are newly initialized: ['roberta.pooler.dense.bias', 'roberta.pooler.dense.weight']\n",
      "You should probably TRAIN this model on a down-stream task to be able to use it for predictions and inference.\n"
     ]
    },
    {
     "name": "stdout",
     "output_type": "stream",
     "text": [
      "MAUDE Raw Response: 1\n",
      "GEval (Relevance) Raw Response: 0.90\n",
      "GEval (Coherence) Raw Response: 0.95\n",
      "Salary change: 7.317073170731707%\n",
      "Metrics saved to model_1_metrics_base.csv for ConversationID d3d58fcb-ed54-4ae2-bc44-e6ecba8f10d2\n",
      "Metrics saved to model_2_metrics_base.csv for ConversationID d3d58fcb-ed54-4ae2-bc44-e6ecba8f10d2\n",
      "Successfully saved scenario for ConversationID d3d58fcb-ed54-4ae2-bc44-e6ecba8f10d2 to negotiation_scenarios_base.csv\n",
      "Run 9 Summary:\n",
      "Initial Salary: $123000\n",
      "Desired Salary: $137000.0\n",
      "Final Offer: $132000.0\n"
     ]
    }
   ],
   "source": [
    "#Prompt to enter OpenAI API key\n",
    "openai.api_key = ####################################\n",
    "\n",
    "#Set Up Configuration\n",
    "#######################################################################################################################\n",
    "#Model settings\n",
    "model_employee = 'gpt-4o'  \n",
    "model_manager = 'gpt-4o' \n",
    "\n",
    "#Negotiation settings\n",
    "num_negotiations = 10\n",
    "max_turns = 10   #Maximum turns per negotiation\n",
    "sim_token_limit = 5000     #Total token limit for a single negotiation\n",
    "\n",
    "\n",
    "#######################################################################################################################\n",
    "#Scenario generator to help generate different scenarios\n",
    "def generate_random_scenario():\n",
    "    job_roles = [\n",
    "        \"Data Scientist\", \"Software Developer\", \"Data Engineer\", \"Machine Learning Engineer\",\n",
    "        \"Cloud Architect\", \"Cybersecurity Analyst\", \"DevOps Engineer\", \"Frontend Developer\",\n",
    "        \"Backend Developer\", \"Full Stack Developer\", \"Data Analyst\", \"Business Analyst\", \"Financial Analyst\",\n",
    "        \"Market Research Analyst\", \"Risk Analyst\", \"Quantitative Analyst\", \"Actuary\", \"BI (Business Intelligence) Developer\",\n",
    "        \"Supply Chain Analyst\", \"Quality Assurance Analyst\", \"Solutions Architect\",\"Management Consultant\",\n",
    "        \"Strategy Consultant\", \"IT Consultant\", \"Financial Consultant\", \"Personal Banker\"\n",
    "    ]\n",
    "\n",
    "    personalities = [\n",
    "        \"Assertive and Direct\", \"Empathetic and Understanding\", \"Optimistic and Cheerful\", \n",
    "        \"Pessimistic and Skeptical\", \"Logical and Analytical\", \"Data-Driven and Objective\", \n",
    "        \"Charismatic and Persuasive\", \"Cooperative and Team-Oriented\", \"Independent and Self-Assured\",\n",
    "        \"Reserved and Introverted\", \"Outspoken and Confident\", \"Ambitious and Goal-Oriented\",\n",
    "        \"Flexible and Open-Minded\", \"Competitive and Driven\", \"Thoughtful and Reflective\",\n",
    "        \"Emotionally Reactive\", \"Calm and Composed\", \"Decisive and Pragmatic\",\n",
    "        \"Detail-Oriented and Methodical\", \"Intuitive and Visionary\", \"Resourceful and Adaptable\", \n",
    "        \"Risk-Averse and Conservative\", \"Humorous and Lighthearted\", \"Respectful and Polite\", \n",
    "        \"Innovative and Forward-Thinking\"\n",
    "    ]\n",
    "\n",
    "    employee_motivations = [\n",
    "        \"wants a raise to better support family due to increased living costs\",\n",
    "        \"feels underpaid for the responsibilities taken on\",\n",
    "        \"wants a raise in line with industry standards\",\n",
    "        \"is planning to buy a house and needs higher income for mortgage\",\n",
    "        \"believes they have grown in skills and wants to be recognized\",\n",
    "        \"is seeking a salary increase after a successful project delivery\",\n",
    "        \"has been receiving competitive offers from other companies\",\n",
    "        \"is expecting a promotion and a corresponding raise\",\n",
    "        \"has taken on additional responsibilities without a raise\",\n",
    "        \"attained a higher education degree and is looking for a raise\",\n",
    "        \"is aiming to save for a child's education\", \n",
    "        \"has been with the company for more than 5 years\",\n",
    "        \"experiencing burnout and sees that a raise could alleviate this feeling\",\n",
    "        \"doesn't have a performance review coming up soon or a raise schedule in place\",\n",
    "        \"the company has reported strong earnings in its recent financial reports\",\n",
    "        \"recently taken on more responsibility or started a new position\",\n",
    "        \"has worked mainly at the office and does not have the option to work from home despite living long distance from work\",\n",
    "        \"seeking a raise otherwise will need to relocate due to a better offer from a company in another city\",\n",
    "        \"your managers frequently rely on you to pick up work from other team members\",\n",
    "        \"received a high-paying offer from another company but doesn't want to leave your current role\"\n",
    "    ]\n",
    "\n",
    "    manager_constraints = [\n",
    "        \"the company is facing budget constraints due to recent cost-cutting measures\",\n",
    "        \"the company has posted record profits this quarter\",\n",
    "        \"the department budget is tight, but employee retention is crucial\",\n",
    "        \"management is prioritizing retention for critical roles\",\n",
    "        \"the company has recently implemented a hiring freeze\",\n",
    "        \"the company is on the brink of filing for bankruptcy\",\n",
    "        \"the company has been acquired by another company in which new management will determine new compensation packages\",\n",
    "        \"there is uncertainty in the market, making budgets more restrictive\",\n",
    "        \"the company is launching a major initiative and needs to retain talent\",\n",
    "        \"other employees in similar roles have not received raises recently\",\n",
    "        \"HR policies require a thorough review before approving raises\",\n",
    "        \"the company is undergoing an internal restructuring process\"\n",
    "    ]\n",
    "\n",
    "    past_achievements = [\n",
    "        \"led three major projects that increased department productivity by 20%\",\n",
    "        \"received an award for excellent customer feedback\",\n",
    "        \"trained new hires and significantly reduced onboarding time\",\n",
    "        \"automated a process that saved the company $50,000 annually\",\n",
    "        \"initiated a successful cross-department collaboration project\",\n",
    "        \"developed a tool that reduced report generation time by 50%\",\n",
    "        \"solved a critical issue that prevented project delays worth millions\",\n",
    "        \"mentored junior employees, improving their performance significantly\",\n",
    "        \"secured a key client that generated $1 million in revenue\",\n",
    "        \"proposed a new strategy that increased team efficiency\"\n",
    "    ]\n",
    "\n",
    "    scenario = {\n",
    "        \"job_role\": random.choice(job_roles),\n",
    "        \"employee_personality\": random.choice(personalities),\n",
    "        \"hr_manager_personality\": random.choice(personalities),\n",
    "        \"employee_motivation\": random.choice(employee_motivations),\n",
    "        \"manager_constraint\": random.choice(manager_constraints),\n",
    "        \"past_achievement\": random.choice(past_achievements)}\n",
    "\n",
    "    current_salary = round(random.randint(45000, 175000),-2)\n",
    "    desired_percentage = random.uniform(0.05, 0.25) \n",
    "    desired_salary = round(current_salary + (current_salary * desired_percentage), -2)\n",
    "    adjusted_desired_salary = desired_salary \n",
    "\n",
    "    return scenario, current_salary, desired_salary\n",
    "\n",
    "#######################################################################################################################\n",
    "\n",
    "#Function to track token usage\n",
    "def token_usage_tracker(response, total_tokens_used, max_tokens):\n",
    "    print(f\"Response structure: {response}\")\n",
    "    #retrieve token usage\n",
    "    used_tokens = response.get('usage', {}).get('total_tokens', 0)\n",
    "    total_tokens_used += used_tokens\n",
    "\n",
    "    print(f\"Total tokens used in this turn: {used_tokens}. Total tokens so far: {total_tokens_used}/{max_tokens}\")\n",
    "\n",
    "    if total_tokens_used >= max_tokens:\n",
    "        print(\"Maximum number of tokens for negotiation used. Must end conversation.\")\n",
    "    \n",
    "    return total_tokens_used\n",
    "\n",
    "\n",
    "#Conversation history\n",
    "def generate_conversation_id():\n",
    "    return str(uuid.uuid4())\n",
    "\n",
    "\n",
    "#######################################################################################################################\n",
    "#RAG Section\n",
    "embedding_model = SentenceTransformerEmbeddings(model_name='all-MiniLM-L6-v2') \n",
    "rag_document_location = \"RAG\"\n",
    "\n",
    "#Used to process PDFs, split into chunks\n",
    "def lang_chain_pdf_puller(rag_document_location):\n",
    "    all_chunks = []\n",
    "    file_list = []\n",
    "\n",
    "    #Raises an error should the folder not exist. \n",
    "    if not os.path.exists(rag_document_location):\n",
    "        raise FileNotFoundError(f\"The folder '{rag_document_location}' does not exist.\")\n",
    "    \n",
    "    #Reduce long text to avoid maximizing big chunks\n",
    "    text_splitter = RecursiveCharacterTextSplitter(chunk_size=2000, chunk_overlap=100)\n",
    "    for filename in os.listdir(rag_document_location):\n",
    "        if filename.endswith(\".pdf\"):\n",
    "            file_path = os.path.join(rag_document_location, filename)\n",
    "            try:\n",
    "                loader = PyPDFLoader(file_path)\n",
    "                docs = loader.load()\n",
    "                # Split documents into chunks\n",
    "                chunks = text_splitter.split_documents(docs)\n",
    "                # Extend Chunks\n",
    "                all_chunks.extend(chunks)\n",
    "                file_list.append(filename)\n",
    "                print(f\"Processed file: {filename} with {len(chunks)} chunks.\")\n",
    "            except Exception as e:\n",
    "                print(f\"Error processing {filename}: {e}\")\n",
    "    return all_chunks, file_list\n",
    "\n",
    "all_chunks, file_list = lang_chain_pdf_puller(rag_document_location)\n",
    "texts = [chunk.page_content for chunk in all_chunks]\n",
    "vector_store = FAISS.from_texts(texts, embedding_model)\n",
    "\n",
    "#Sifted through folder\n",
    "def search_vector_db(query, vector_store, top_k=3):\n",
    "    \"\"\"Retrieve relevant information for given query to formulate better responses.\"\"\"\n",
    "    docs = vector_store.similarity_search(query, k=top_k)\n",
    "    return \" \".join([doc.page_content for doc in docs])\n",
    "\n",
    "##########################################################################################################################\n",
    "#conversation history to JSONL\n",
    "def save_conversation_to_jsonl(conversation_history, conversation_id, file_name=\"negotiation_chats_selfplay.jsonl\"):\n",
    "    try:\n",
    "        # Filter the conversation history to include only Employee and HR Manager roles\n",
    "        filtered_conversation = [\n",
    "            {\"role\": entry.get(\"role\"), \"content\": entry.get(\"content\")}\n",
    "            for entry in conversation_history\n",
    "            if entry.get(\"role\") != \"system\"]\n",
    "\n",
    "        #Negotiation entry\n",
    "        negotiation_entry = {\n",
    "            \"ConversationID\": conversation_id,\n",
    "            \"Negotiation\": filtered_conversation}\n",
    "        \n",
    "        json_string = json.dumps(negotiation_entry, ensure_ascii=False, indent=None)\n",
    "\n",
    "        #Append to file\n",
    "        with open(file_name, mode='a', encoding='utf-8') as jsonlfile:\n",
    "            jsonlfile.write(json_string + '\\n')  # Ensure newline after each JSON object\n",
    "\n",
    "        print(f\"Successfully saved conversation with ConversationID {conversation_id} to {file_name}\")\n",
    "    except Exception as e:\n",
    "        print(f\"Error saving conversation with ConversationID {conversation_id}: {e}\")\n",
    "\n",
    "\n",
    "def save_metrics_to_csv(metrics, conversation_id, file_name=\"self_play_metrics.csv\"):\n",
    "    metric_fieldnames = [\n",
    "        \"ConversationID\", \n",
    "        \"Timestamp\", \n",
    "        \"Model\",  \n",
    "        \"Personality\",  \n",
    "        \"Initial Salary\",  \n",
    "        \"Final Salary\",  \n",
    "        \"Salary Percent Change\",  \n",
    "        \"BLEU\",  \n",
    "        \"ROUGE\", \n",
    "        \"BERTScore\",  \n",
    "        \"Cosine Similarity\",  \n",
    "        \"METEOR\",\n",
    "        \"Avg Sentiment Score\", \n",
    "        \"Avg Response Length\",  \n",
    "        \"Avg Relevance Score\",  \n",
    "        \"Avg Coherence Score\",  \n",
    "        \"Avg Combined GEval Score\", \n",
    "        \"MAUDE\",  \n",
    "        \"Total Tokens\",  \n",
    "        \"Avg Latency\", \n",
    "        \"Tokens per Second\", \n",
    "        \"Total Cost\",  \n",
    "        \"Summary\"] \n",
    "    \n",
    "    #Add ConversationID to metrics\n",
    "    metrics[\"ConversationID\"] = conversation_id\n",
    "    #take off unnecessary fields\n",
    "    metrics = {key: metrics[key] for key in metric_fieldnames}\n",
    "    #Ensure metrics contain all necessary keys\n",
    "    for field in metric_fieldnames:\n",
    "        if field not in metrics:\n",
    "            metrics[field] = None  #Fill missing fields with None\n",
    "            \n",
    "    #Save metrics to the CSV file\n",
    "    file_exists = os.path.isfile(file_name)\n",
    "    with open(file_name, mode='a', newline='') as csvfile:\n",
    "        writer = csv.DictWriter(csvfile, fieldnames=metric_fieldnames)\n",
    "        if not file_exists:\n",
    "            writer.writeheader()  #Write header only once\n",
    "        writer.writerow(metrics)  #Write the metrics row\n",
    "    \n",
    "    print(f\"Metrics saved to {file_name} for ConversationID {conversation_id}\")\n",
    "\n",
    "def save_scenario_to_csv(scenario, conversation_id, file_name=\"negotiation_scenarios.csv\"):\n",
    "    #CSV columns\n",
    "    scenario_fieldnames = [\"ConversationID\", \"job_role\", \"employee_personality\", \"hr_manager_personality\", \"employee_motivation\", \"manager_constraint\", \"past_achievement\"]\n",
    "    #Add ConversationID to the scenario dictionary\n",
    "    scenario[\"ConversationID\"] = conversation_id\n",
    "\n",
    "    #Take off unnecessary fields and ensure all required fields are present\n",
    "    scenario = {key: scenario[key] for key in scenario_fieldnames}\n",
    "    for field in scenario_fieldnames:\n",
    "        if field not in scenario:\n",
    "            scenario[field] = None  #Fill missing fields with None\n",
    "\n",
    "    # Save the scenario to the CSV file\n",
    "    file_exists = os.path.isfile(file_name)\n",
    "    with open(file_name, mode='a', newline='', encoding='utf-8') as csvfile:\n",
    "        writer = csv.DictWriter(csvfile, fieldnames=scenario_fieldnames)\n",
    "        if not file_exists:\n",
    "            writer.writeheader()  #Write header only once\n",
    "        writer.writerow(scenario)  #Write the scenario row\n",
    "    \n",
    "    print(f\"Successfully saved scenario for ConversationID {conversation_id} to {file_name}\")\n",
    "\n",
    "##########################################################################################################################\n",
    "vader_analyzer = SentimentIntensityAnalyzer()\n",
    "cosine_similarity_model = SentenceTransformer('stsb-roberta-large')\n",
    "\n",
    "def cosine_similarity(reference, prediction):\n",
    "    embedding1 = cosine_similarity_model.encode(reference, convert_to_tensor=True)\n",
    "    embedding2 = cosine_similarity_model.encode(prediction, convert_to_tensor=True)\n",
    "    similarity_score = util.pytorch_cos_sim(embedding1, embedding2)\n",
    "    return similarity_score.item()\n",
    "    \n",
    "def corpus_bleu_eq(references, predictions):\n",
    "    tokenized_references = [[word_tokenize(ref)] for ref in references]\n",
    "    tokenized_predictions = [word_tokenize(pred) for pred in predictions]\n",
    "    return corpus_bleu(tokenized_references, tokenized_predictions, smoothing_function=SmoothingFunction().method1)\n",
    "\n",
    "def rouge_eq(reference, prediction):\n",
    "    rouge = Rouge()\n",
    "    scores = rouge.get_scores(prediction, reference)\n",
    "    return scores[0]['rouge-l']['f']\n",
    "\n",
    "def meteor_eq(reference, prediction):\n",
    "    tokenizer = TreebankWordTokenizer()\n",
    "    tokenized_reference = tokenizer.tokenize(reference)\n",
    "    tokenized_prediction = tokenizer.tokenize(prediction)\n",
    "    return meteor_score([tokenized_reference], tokenized_prediction)\n",
    "\n",
    "def bertscore_metric(reference, prediction):\n",
    "    P, R, F1 = bert_score([prediction], [reference], lang=\"en\", verbose=False)\n",
    "    return F1.mean().item()\n",
    "\n",
    "def sentiment_score_def(text):\n",
    "    \"\"\"compound score: which ranges from -1 (negative) to +1 (positive).\"\"\"\n",
    "    sentiment = vader_analyzer.polarity_scores(text)\n",
    "    return sentiment['compound']\n",
    "\n",
    "def response_length_def(text):\n",
    "    \"\"\"calc number of words in the text response.\"\"\"\n",
    "    return len(text.split())\n",
    "\n",
    "#MAUDE\n",
    "def maude_def(context, response, model=\"gpt-4\"):\n",
    "    \"\"\"\n",
    "    MAUDE score using GPT-4's chat-completions endpoint.\n",
    "    \"\"\"\n",
    "    prompt = f\"\"\"Evaluate the following response in the context of the given conversation:\n",
    "- Context: {context}\n",
    "- Response: {response}\n",
    "\n",
    "Rate the response from 0 to 1 based on the following criteria:\n",
    "1. Coherence: How well the response logically follows from the context.\n",
    "2. Relevance: How directly the response addresses the context.\n",
    "\n",
    "Only provide the score as a numeric value between 0 and 1, with no additional explanation or text.\"\"\"\n",
    "    try:\n",
    "        completion = openai.ChatCompletion.create(\n",
    "            model=model,\n",
    "            messages=[\n",
    "                {\"role\": \"system\", \"content\": \"You are an evaluation assistant.\"},\n",
    "                {\"role\": \"user\", \"content\": prompt}\n",
    "            ],\n",
    "            temperature=0.0,\n",
    "            max_tokens=10)\n",
    "        #Extract the score from the response\n",
    "        text_response = completion.choices[0].message['content'].strip()\n",
    "        print(f\"MAUDE Raw Response: {text_response}\")\n",
    "        if re.match(r'^\\d+(\\.\\d+)?$', text_response):\n",
    "            score = float(text_response)\n",
    "        else:\n",
    "            score = 0.0  #Handle invalid responses\n",
    "        return score\n",
    "    except Exception as e:\n",
    "        print(f\"Error in MAUDE scoring: {e}\")\n",
    "        return 0.0\n",
    "\n",
    "#GEval metrics for relevance and coherence\n",
    "def geval_def(context, response, criteria, model=\"gpt-4o\"):\n",
    "    \"\"\"\n",
    "    GE-val score for a given criteria (relevance or coherence).\n",
    "    \"\"\"\n",
    "    prompt = f\"\"\"\n",
    "    You are an evaluation assistant tasked with scoring a response based on the given criteria.\n",
    "    \n",
    "    Evaluation Task:\n",
    "    - Criteria: {criteria}\n",
    "    - Context: {context if context else 'N/A'}\n",
    "    - Response: {response}\n",
    "    \n",
    "    Scoring Instructions:\n",
    "    - Relevance: Score based on how directly the response addresses the context and aligns with a salary negotiation\n",
    "        - A score of 0.9–1.0: The response directly addresses the main points in the context and is highly relevant\n",
    "        - A score of 0.6–0.8: The response is partially relevant but may include unrelated or tangential content\n",
    "        - A score of 0.0–0.5: The response does not address the context or is entirely irrelevant\n",
    "    \n",
    "    - Coherence: Score based on how logically structured and clear the response is for a salary negotiation\n",
    "        - A score of 0.9–1.0: The response is well-structured, logical, and easy to understand.\n",
    "        - A score of 0.6–0.8: The response is somewhat clear but may contain minor logical inconsistencies\n",
    "        - A score of 0.0–0.5: The response is poorly structured, lacks logic, or is difficult to understand\n",
    "    \n",
    "    **Instructions**:\n",
    "    1. Provide a numeric score between 0.0 and 1.0 based on the criteria\n",
    "    2. Use only two decimal place in your score (e.g., 0.80, 0.90)\n",
    "    3. Do not include any explanation or additional text in your response; provide only the score\n",
    "    \"\"\"\n",
    "    try:\n",
    "        completion = openai.ChatCompletion.create(\n",
    "            model=model,\n",
    "            messages=[\n",
    "                {\"role\": \"system\", \"content\": \"You are an evaluation assistant.\"},\n",
    "                {\"role\": \"user\", \"content\": prompt}],\n",
    "            temperature=0.0,\n",
    "            max_tokens=10)\n",
    "        #Extract the score from the response\n",
    "        text_response = completion.choices[0].message['content'].strip()\n",
    "        print(f\"GEval ({criteria}) Raw Response: {text_response}\")\n",
    "        if re.match(r'^\\d+(\\.\\d+)?$', text_response):\n",
    "            score = float(text_response)\n",
    "        else:\n",
    "            score = 0.0  #Handle invalid responses\n",
    "        return score\n",
    "    except Exception as e:\n",
    "        print(f\"Error in GEval scoring ({criteria}): {e}\")\n",
    "        return 0.0\n",
    "\n",
    "#####################################################################################\n",
    "#Reference text for BLEU, ROUGE, METEOR, BERTScore\n",
    "reference_data = pd.read_csv(\"negotiation_references_combined.csv\")\n",
    "\n",
    "#Filter references by role\n",
    "employee_references = reference_data[reference_data['role'] == 'Employee']['text'].tolist()\n",
    "hr_manager_references = reference_data[reference_data['role'] == 'HR Manager']['text'].tolist()\n",
    "\n",
    "#######################################################################################################\n",
    "#Function to evaluate a single model \n",
    "def evaluate_individual_model(\n",
    "    conversation_history, model_role, references, model_name, run_number, \n",
    "    current_salary, final_salary, model_personality, total_tokens_used, prompt_tokens,  \n",
    "        completion_tokens, agreement_status):\n",
    "    #Initialize metric containers\n",
    "    bleu_scores, rouge_scores, meteor_scores, bert_scores, cosine_similarity_scores = [], [], [], [], []\n",
    "    maude_scores = []\n",
    "    relevance_scores, coherence_scores, combined_geval_scores = [], [], []\n",
    "    sentiment_scores, response_lengths = [], []\n",
    "    latencies = []\n",
    "    total_time = 0  #Initialize total_time here\n",
    "    total_tokens = 0\n",
    "\n",
    "    #Summary of negotiation outcome\n",
    "    summary = agreement_status\n",
    "\n",
    "    #Filter responses for the given model role\n",
    "    assistant_responses = [msg for msg in conversation_history if msg[\"role\"] == model_role]\n",
    "\n",
    "    #Process each response for metrics\n",
    "    for i, assistant_response in enumerate(assistant_responses):\n",
    "        prediction = assistant_response.get(\"content\", \"\")\n",
    "        context = \" \".join([msg.get(\"content\", \"\") for msg in conversation_history[:i]])\n",
    "\n",
    "        #Calculate similarity metrics if reference exists\n",
    "        if i < len(references):\n",
    "            reference = references[i]\n",
    "            bleu_scores.append(corpus_bleu_eq([reference], [prediction]))\n",
    "            rouge_scores.append(rouge_eq(reference, prediction))\n",
    "            meteor_scores.append(meteor_eq(reference, prediction))\n",
    "            bert_scores.append(bertscore_metric(reference, prediction))\n",
    "            cosine_similarity_scores.append(cosine_similarity(reference, prediction))\n",
    "\n",
    "        #Calculate MAUDE score\n",
    "        maude_scores.append(maude_def(context, prediction, model=\"gpt-4o\"))\n",
    "\n",
    "        #Calculate GEval metrics\n",
    "        relevance_scores.append(geval_def(context, prediction, criteria=\"Relevance\", model=\"gpt-4o\"))\n",
    "        coherence_scores.append(geval_def(\"\", prediction, criteria=\"Coherence\", model=\"gpt-4o\"))\n",
    "        combined_geval_scores.append(round(0.5 * relevance_scores[-1] + 0.5 * coherence_scores[-1], 3))\n",
    "\n",
    "        #Sentiment and response length\n",
    "        sentiment_scores.append(sentiment_score_def(prediction))\n",
    "        response_lengths.append(response_length_def(prediction))\n",
    "\n",
    "        #Track latency and token usage\n",
    "        latency = assistant_response.get(\"latency\", 0)\n",
    "        latencies.append(latency)\n",
    "        total_tokens += assistant_response.get(\"token_count\", 0)\n",
    "        total_time += latency\n",
    "        usage = assistant_response.get('usage', {})\n",
    "        prompt_tokens += usage.get('prompt_tokens', 0)\n",
    "        completion_tokens += usage.get('completion_tokens', 0)\n",
    "\n",
    "    #Ensure tokens per second is calculated after processing all responses\n",
    "    tokens_per_second = total_tokens / total_time if total_time > 0 else 0\n",
    "\n",
    "    #Calculate total cost based on token usage \n",
    "    input_cost = (prompt_tokens / 1000000) * 2.50  #$2.50 per 1M input tokens\n",
    "    output_cost = (completion_tokens / 1000000) * 10.00  #$10.00 per 1M output tokens\n",
    "    total_cost = input_cost + output_cost\n",
    "\n",
    "    #Calculate salary percent change\n",
    "    salary_percent_change = ((final_salary - current_salary) / current_salary) * 100\n",
    "    if salary_percent_change == 0:\n",
    "        print(f\"No change in salary: Initial = {current_salary}, Final = {final_salary}\")\n",
    "    else:\n",
    "        print(f\"Salary change: {salary_percent_change}%\")\n",
    "\n",
    "    #Create metrics dictionary\n",
    "    metrics_dictionary = {\n",
    "        \"BLEU\": np.mean(bleu_scores) if bleu_scores else 0,\n",
    "        \"ROUGE\": np.mean(rouge_scores) if rouge_scores else 0,\n",
    "        \"METEOR\": np.mean(meteor_scores) if meteor_scores else 0,\n",
    "        \"BERTScore\": np.mean(bert_scores) if bert_scores else 0,\n",
    "        \"Cosine Similarity\": np.mean(cosine_similarity_scores) if cosine_similarity_scores else 0,\n",
    "        \"MAUDE\": np.mean(maude_scores) if maude_scores else 0,\n",
    "        \"Avg Relevance Score\": np.mean(relevance_scores) if relevance_scores else 0,\n",
    "        \"Avg Coherence Score\": np.mean(coherence_scores) if coherence_scores else 0,\n",
    "        \"Avg Combined GEval Score\": np.mean(combined_geval_scores) if combined_geval_scores else 0,\n",
    "        \"Avg Sentiment Score\": np.mean(sentiment_scores) if sentiment_scores else 0,\n",
    "        \"Avg Response Length\": np.mean(response_lengths) if response_lengths else 0,\n",
    "        \"Avg Latency\": np.mean(latencies) if latencies else 0,\n",
    "        \"Tokens per Second\": tokens_per_second,\n",
    "        \"Total Tokens\": total_tokens,\n",
    "        \"Total Cost\": total_cost,\n",
    "        \"Salary Percent Change\": salary_percent_change,\n",
    "        \"Initial Salary\": current_salary,\n",
    "        \"Final Salary\": final_salary,\n",
    "        \"Summary\": summary,\n",
    "        \"Timestamp\": datetime.datetime.now().isoformat(),\n",
    "        \"Model\": model_name,\n",
    "        \"Personality\": model_personality}\n",
    "\n",
    "    return metrics_dictionary\n",
    "\n",
    "###########################################################################################################################\n",
    "def extract_salary(response):\n",
    "    \"\"\"\n",
    "    Extract the salary from a response with enhanced fallback strategies.\n",
    "    \"\"\"\n",
    "    #Keywords that indicate salary\n",
    "    salary_keywords = [\n",
    "        \"propose\", \"offer\", \"current salary\", \"desired salary\",\n",
    "        \"counteroffer\", \"final offer\", \"salary of\", \"adjustment to\",\n",
    "        \"compensation\", \"increase to\", \"base salary\", \"package\"]\n",
    "\n",
    "    #Match dollar amounts in various formats\n",
    "    matches = re.findall(r'\\$\\d{1,3}(?:,\\d{3})*(?:\\.\\d{2})?', response)  #Match \"$123,456.78\"\n",
    "    print(f\"Extracted Matches: {matches}\")  #Debugging statement for matches\n",
    "\n",
    "    #If matches found, proceed to validate proximity to keywords\n",
    "    if matches:\n",
    "        for match in matches:\n",
    "            #Clean and convert the matched dollar amount\n",
    "            salary_amount = float(match.replace(\",\", \"\").replace(\"$\", \"\"))\n",
    "\n",
    "            #Check if the matched salary is near a keyword\n",
    "            for keyword in salary_keywords:\n",
    "                pattern = rf\"{keyword}.*?{match}|{match}.*?{keyword}\"  #Check proximity\n",
    "                if re.search(pattern, response, re.IGNORECASE):\n",
    "                    print(f\"Extracted salary: {salary_amount} with keyword '{keyword}'\")\n",
    "                    return salary_amount  # Return the first valid match\n",
    "\n",
    "        #Fallback: If no keywords are matched, assume the first dollar amount is a salary\n",
    "        print(f\"No keywords matched. Using first extracted match as fallback: {matches[0]}\")\n",
    "        return float(matches[0].replace(\",\", \"\").replace(\"$\", \"\"))\n",
    "\n",
    "    #Final fallback: If no matches, log and return None\n",
    "    print(f\"No valid salary found in response: {response}\")\n",
    "    return None\n",
    "\n",
    "\n",
    "#Function intended to remove extraneous words and phrases that may be inadvertently printed \n",
    "#this helps remove gernated text issues we have seen constantly\n",
    "def clean_response(response):\n",
    "    #Remove or limit \"Thank you\" or similar phrases\n",
    "    response = re.sub(r\"(Thank you|I appreciate|truly).+?\\.\", \"\", response, flags=re.IGNORECASE).strip()\n",
    "    #Remove placeholders like \"[Employee's Name]\"\n",
    "    response = re.sub(r\"\\[.*?\\]\", \"\", response).strip()\n",
    "    #Remove leading role identifiers like \"HR Manager:\" or \"Employee:\" or \"Dear ...\"\n",
    "    response = re.sub(r\"^(HR Manager:|Employee:|Dear\\s.+?,)\", \"\", response, flags=re.IGNORECASE).strip()\n",
    "    #Remove excessive whitespace\n",
    "    response = re.sub(r\"\\s+\", \" \", response).strip()\n",
    "    #Remove bullet points, markdown-like formatting, and excessive symbols\n",
    "    response = re.sub(r\"(\\*\\*|--|\\s*-)\", \"\", response).strip()\n",
    "    #Remove numbers or irrelevant prefixes (e.g., \"94.\")\n",
    "    response = re.sub(r\"^\\d+\\.?\", \"\", response).strip()\n",
    "    #Split into sentences and remove duplicates while preserving order\n",
    "    sentences = [s.strip() for s in response.split(\".\") if s.strip()]\n",
    "    seen = set()\n",
    "    unique_sentences = []\n",
    "    for s in sentences:\n",
    "        if s not in seen and s != \"\":\n",
    "            unique_sentences.append(s)\n",
    "            seen.add(s)\n",
    "\n",
    "    #Rejoin sentences\n",
    "    response = \". \".join(unique_sentences).strip()\n",
    "\n",
    "    #Remove repeated leading \"We\" or \"I\" (rare edge case)\n",
    "    response = re.sub(r\"^(We\\s+We|I\\s+I)\\s+\", \"\", response, flags=re.IGNORECASE)\n",
    "\n",
    "    #Ensure proper capitalization of the first letter\n",
    "    if response and not response[0].isupper():\n",
    "        response = response[0].upper() + response[1:]\n",
    "\n",
    "    return response\n",
    "\n",
    "\n",
    "\n",
    "def evaluate_negotiation_outcome(conversation_history, model=\"gpt-4o\"):\n",
    "    \"\"\"\n",
    "    Determines whether the negotiation ended in an agreement or no agreement\n",
    "    based on the last four turns of the conversation using GPT-4o.\n",
    "    \"\"\"\n",
    "    #Extract the last four turns\n",
    "    last_turns = conversation_history[-4:]\n",
    "    last_turns_text = \"\\n\".join(\n",
    "        f\"{entry['role']}: {entry['content']}\" for entry in last_turns)\n",
    "\n",
    "    #Create the evaluation prompt\n",
    "    evaluation_prompt = f\"\"\"\n",
    "    Below is the conversation history of a salary negotiation. \n",
    "    Review the final four turns and determine whether the negotiation ended in an agreement or no agreement. \n",
    "    Your response must include one of the following:\n",
    "    - \"Agreement\" if both parties agreed on a salary or terms.\n",
    "    - \"No Agreement\" if the negotiation ended without mutual consent.\n",
    "\n",
    "    Final Four Turns:\n",
    "    {last_turns_text}\n",
    "\n",
    "    Outcome:\n",
    "    \"\"\"\n",
    "\n",
    "    #Call the GPT-4o model to evaluate the outcome\n",
    "    try:\n",
    "        response = openai.ChatCompletion.create(\n",
    "            model=model,\n",
    "            messages=[\n",
    "                {\"role\": \"system\", \"content\": \"You are an evaluation assistant.\"},\n",
    "                {\"role\": \"user\", \"content\": evaluation_prompt.strip()}\n",
    "            ],\n",
    "            max_tokens=50,\n",
    "            temperature=0.0)\n",
    "        outcome = response.choices[0].message['content'].strip()\n",
    "        print(f\"Evaluation Bot Outcome: {outcome}\")\n",
    "        return outcome\n",
    "    except Exception as e:\n",
    "        print(f\"Error evaluating negotiation outcome: {e}\")\n",
    "        return \"Error\"\n",
    "\n",
    "\n",
    "\n",
    "###########################################################################################################################\n",
    "\n",
    "def run_negotiation(\n",
    "    model_employee,\n",
    "    model_manager,\n",
    "    scenario,\n",
    "    current_salary,\n",
    "    desired_salary,\n",
    "    max_turns,\n",
    "    sim_token_limit):\n",
    "    \"\"\"\n",
    "    Simulates a salary negotiation where HR Manager always concludes the conversation.\n",
    "    Ensures strict role alternation and avoids double turns.\n",
    "    \"\"\"\n",
    "    conversation_history = []\n",
    "    total_tokens_used = 0\n",
    "    current_offer = current_salary\n",
    "    highest_counteroffer = current_salary\n",
    "    total_time = 0\n",
    "    prompt_tokens = 0\n",
    "    completion_tokens = 0\n",
    "\n",
    "    starting_role = random.choice([\"Employee\", \"HR Manager\"])\n",
    "    current_role = starting_role\n",
    "    roles = {\"Employee\": model_employee, \"HR Manager\": model_manager}\n",
    "\n",
    "    # Introductory message\n",
    "    if starting_role == \"Employee\":\n",
    "        intro_message = f\"\"\"\n",
    "        Thank you for taking the time to meet today. I wanted to discuss my compensation and explore how we can align \n",
    "        it more closely with my contributions and the market standards. My current salary is ${current_salary}, and \n",
    "        I believe there is room for adjustment to better reflect my role.\n",
    "        \"\"\"\n",
    "    else:\n",
    "        intro_message = f\"\"\"\n",
    "        Thank you for meeting with us today to discuss your compensation. \n",
    "        We value your work at the company and aim to have a discussion.\n",
    "        Currently, your salary is ${current_salary}, and we are open to discussing an adjustment.\n",
    "        \"\"\"\n",
    "\n",
    "    conversation_history.append({\n",
    "        \"role\": starting_role,\n",
    "        \"content\": intro_message.strip(),\n",
    "        \"latency\": 0,\n",
    "        \"token_count\": 0})\n",
    "\n",
    "    agreement_status = \"No Agreement\"\n",
    "    minimum_turns = max_turns // 2\n",
    "\n",
    "    #Negotiation loop\n",
    "    for turn in range(max_turns):\n",
    "        #Ensure role alternation\n",
    "        current_role = \"HR Manager\" if current_role == \"Employee\" else \"Employee\"\n",
    "        model = roles[current_role]\n",
    "        tone = scenario[\"employee_personality\"] if current_role == \"Employee\" else scenario[\"hr_manager_personality\"]\n",
    "\n",
    "        memory_context = \"\\n\".join(f\"{entry['role']}: {entry['content']}\" for entry in conversation_history[-4:])\n",
    "        prompt = f\"\"\"\n",
    "        The employee's current salary is ${current_salary}.\n",
    "        The company's current offer is ${current_offer}.\n",
    "        The employee's desired salary is ${desired_salary}.\n",
    "        The highest counteroffer so far is ${highest_counteroffer}.\n",
    "        \n",
    "        Context:\n",
    "        {memory_context}\n",
    "\n",
    "        Instructions:\n",
    "        - Respond as the {current_role} in a {tone} tone.\n",
    "        - Avoid repeating points; introduce new arguments or compromises.\n",
    "        - Suggest creative solutions (e.g., bonuses, phased raises, non-monetary benefits).\n",
    "        - Be concise and professional.\n",
    "        \"\"\"\n",
    "\n",
    "        try:\n",
    "            start_time = time.time()\n",
    "            response = openai.ChatCompletion.create(\n",
    "                model=model,\n",
    "                messages=[\n",
    "                    {\"role\": \"system\", \"content\": f\"You are the {current_role} in this negotiation.\"},\n",
    "                    {\"role\": \"user\", \"content\": prompt.strip()}],\n",
    "                max_tokens=200,\n",
    "                temperature=0.7)\n",
    "            latency = time.time() - start_time\n",
    "            total_time += latency\n",
    "\n",
    "            response_content = response.choices[0].message['content'].strip()\n",
    "            response_tokens = response['usage']['total_tokens']\n",
    "            total_tokens_used += response_tokens\n",
    "\n",
    "            response_content = clean_response(response_content)\n",
    "            conversation_history.append({\n",
    "                \"role\": current_role,\n",
    "                \"content\": response_content,\n",
    "                \"latency\": latency,\n",
    "                \"token_count\": response_tokens})\n",
    "\n",
    "            print(f\"Turn {turn + 1} ({current_role}):\\n{response_content}\")\n",
    "\n",
    "            #Update offers dynamically\n",
    "            if current_role == \"Employee\" and \"$\" in response_content:\n",
    "                extracted_salary = extract_salary(response_content)\n",
    "                if extracted_salary:\n",
    "                    highest_counteroffer = max(highest_counteroffer, extracted_salary)\n",
    "                    current_offer = max(current_offer, highest_counteroffer - 5000)\n",
    "            elif current_role == \"HR Manager\" and \"$\" in response_content:\n",
    "                extracted_salary = extract_salary(response_content)\n",
    "                if extracted_salary:\n",
    "                    current_offer = max(current_offer, extracted_salary)\n",
    "                    highest_counteroffer = max(highest_counteroffer, current_offer + 5000)\n",
    "\n",
    "            #Early agreement check after minimum turns\n",
    "            if turn >= minimum_turns:\n",
    "                current_outcome = evaluate_negotiation_outcome(conversation_history)\n",
    "                if current_outcome == \"Agreement\":\n",
    "                    agreement_status = \"Agreement\"\n",
    "                    break\n",
    "\n",
    "        except Exception as e:\n",
    "            print(f\"Error generating response for {current_role}: {e}\")\n",
    "            break\n",
    "\n",
    "    #HR Manager Final Turn to Conclude the Negotiation\n",
    "    closing_prompt = \"\"\"\n",
    "    Conclude the negotiation as the HR Manager:\n",
    "    - If Agreement: Express enthusiasm, confirm the agreed terms, and highlight the employee's future contributions.\n",
    "    - If No Agreement: Respectfully acknowledge the decision, express gratitude, and leave the door open for future discussions.\n",
    "    \"\"\"\n",
    "    hr_manager_response = openai.ChatCompletion.create(\n",
    "        model=model_manager,\n",
    "        messages=[\n",
    "            {\"role\": \"system\", \"content\": \"You are the HR Manager concluding the negotiation.\"},\n",
    "            {\"role\": \"user\", \"content\": closing_prompt.strip()}],\n",
    "        max_tokens=150,\n",
    "        temperature=0.5)\n",
    "    hr_manager_content = clean_response(hr_manager_response.choices[0].message['content'].strip())\n",
    "\n",
    "    #Append only HR Manager's final response\n",
    "    if conversation_history[-1]['role'] != \"HR Manager\":  #Prevent consecutive HR Manager turns\n",
    "        conversation_history.append({\n",
    "            \"role\": \"HR Manager\",\n",
    "            \"content\": hr_manager_content,\n",
    "            \"latency\": 0,\n",
    "            \"token_count\": hr_manager_response['usage']['total_tokens']})\n",
    "\n",
    "    print(f\"Final HR Manager Turn:\\n{hr_manager_content}\")\n",
    "\n",
    "    # Final Evaluation\n",
    "    agreement_status = evaluate_negotiation_outcome(conversation_history)\n",
    "    return conversation_history, current_offer, total_tokens_used, prompt_tokens, completion_tokens, agreement_status\n",
    "\n",
    "\n",
    "\n",
    "\n",
    "\n",
    "#Negotiation Loop\n",
    "for run in range(num_negotiations):\n",
    "    scenario, current_salary, desired_salary = generate_random_scenario()\n",
    "    conversation_id = generate_conversation_id()\n",
    "\n",
    "    #Updated to unpack all returned values\n",
    "    conversation, current_offer, total_tokens_used, prompt_tokens, completion_tokens, agreement_reached = run_negotiation(\n",
    "        model_employee=model_employee,\n",
    "        model_manager=model_manager,\n",
    "        scenario=scenario,\n",
    "        current_salary=current_salary,\n",
    "        desired_salary=desired_salary,\n",
    "        max_turns=max_turns,\n",
    "        sim_token_limit=sim_token_limit)\n",
    "\n",
    "\n",
    "    #Save negotiation details\n",
    "    save_conversation_to_jsonl(conversation, conversation_id, file_name=\"negotiation_chats_selfplay_base.jsonl\")\n",
    "    final_salary = current_offer if agreement_reached == \"Agreement\" else current_salary\n",
    "    \n",
    "    model_1_metrics = evaluate_individual_model(\n",
    "        conversation_history=conversation,\n",
    "        model_role=\"Employee\",\n",
    "        references=employee_references,\n",
    "        model_name=\"Model 1\",\n",
    "        run_number=run,\n",
    "        current_salary=current_salary,\n",
    "        final_salary = current_offer if agreement_reached == \"Agreement\" else current_salary,\n",
    "        model_personality=scenario[\"employee_personality\"],\n",
    "        total_tokens_used=total_tokens_used,\n",
    "        prompt_tokens=prompt_tokens,  \n",
    "        completion_tokens=completion_tokens,  \n",
    "        agreement_status=agreement_reached)\n",
    "    \n",
    "    model_2_metrics = evaluate_individual_model(\n",
    "        conversation_history=conversation,\n",
    "        model_role=\"HR Manager\",\n",
    "        references=hr_manager_references,\n",
    "        model_name=\"Model 2\",\n",
    "        run_number=run,\n",
    "        current_salary=current_salary,\n",
    "        final_salary= current_offer if agreement_reached == \"Agreement\" else current_salary,  \n",
    "        model_personality=scenario[\"hr_manager_personality\"],\n",
    "        total_tokens_used=total_tokens_used,\n",
    "        prompt_tokens=prompt_tokens,  \n",
    "        completion_tokens=completion_tokens,  \n",
    "        agreement_status=agreement_reached)\n",
    "\n",
    "\n",
    "    #Save metrics for the run\n",
    "    save_metrics_to_csv(model_1_metrics, conversation_id, file_name=\"model_1_metrics_base.csv\")\n",
    "    save_metrics_to_csv(model_2_metrics, conversation_id, file_name=\"model_2_metrics_base.csv\")\n",
    "    save_scenario_to_csv(scenario, conversation_id, file_name=\"negotiation_scenarios_base.csv\")\n",
    "\n",
    "    print(f\"Run {run} Summary:\")\n",
    "    print(f\"Initial Salary: ${current_salary}\")\n",
    "    print(f\"Desired Salary: ${desired_salary}\")\n",
    "    print(f\"Final Offer: ${current_offer}\")"
   ]
  },
  {
   "cell_type": "code",
   "execution_count": null,
   "id": "6a960d23-9c04-436e-ac1a-6b44fdac058f",
   "metadata": {},
   "outputs": [],
   "source": []
  }
 ],
 "metadata": {
  "kernelspec": {
   "display_name": "Python 3 (ipykernel)",
   "language": "python",
   "name": "python3"
  },
  "language_info": {
   "codemirror_mode": {
    "name": "ipython",
    "version": 3
   },
   "file_extension": ".py",
   "mimetype": "text/x-python",
   "name": "python",
   "nbconvert_exporter": "python",
   "pygments_lexer": "ipython3",
   "version": "3.11.4"
  }
 },
 "nbformat": 4,
 "nbformat_minor": 5
}
