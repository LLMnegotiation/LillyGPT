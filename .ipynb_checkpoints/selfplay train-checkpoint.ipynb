{
 "cells": [
  {
   "cell_type": "code",
   "execution_count": null,
   "id": "f00ac107-25f1-460b-a1a9-0cff2163abdf",
   "metadata": {},
   "outputs": [],
   "source": [
    "### FORMAT THAT HAS PROMPT"
   ]
  },
  {
   "cell_type": "code",
   "execution_count": 52,
   "id": "7a47542b-010c-4876-a83e-e09f3151eb91",
   "metadata": {
    "tags": []
   },
   "outputs": [
    {
     "name": "stdout",
     "output_type": "stream",
     "text": [
      "Transformed data saved to train_data.jsonl\n"
     ]
    }
   ],
   "source": [
    "import json\n",
    "\n",
    "# Input and output file paths\n",
    "input_file = \"negotiation_chats_selfplay_6_base.jsonl\"  # Replace with your input file name\n",
    "output_file = \"train_data.jsonl\"\n",
    "\n",
    "# Define a system message\n",
    "system_message = {\"role\": \"system\", \"content\": \"This is a negotiation chatbot designed to assist in salary discussions.\"}\n",
    "\n",
    "# Load the JSONL file\n",
    "def load_data(file_path):\n",
    "    \"\"\"Load data from a JSONL file.\"\"\"\n",
    "    with open(file_path, \"r\") as f:\n",
    "        return [json.loads(line.strip()) for line in f]\n",
    "\n",
    "# Transform negotiations into messages format\n",
    "def transform_negotiations(data):\n",
    "    \"\"\"Transform negotiation data into the 'messages' structure.\"\"\"\n",
    "    transformed_data = []\n",
    "    for entry in data:\n",
    "        try:\n",
    "            negotiation = entry[\"Negotiation\"]\n",
    "            messages = [system_message]  # Start with the system message\n",
    "            \n",
    "            # Add all negotiation messages\n",
    "            for message in negotiation:\n",
    "                role = \"user\" if message[\"role\"] == \"Employee\" else \"assistant\"\n",
    "                messages.append({\"role\": role, \"content\": message[\"content\"].strip()})\n",
    "            \n",
    "            transformed_data.append({\"messages\": messages})\n",
    "        except KeyError as e:\n",
    "            print(f\"Skipping entry due to missing key: {e}\")\n",
    "    return transformed_data\n",
    "\n",
    "# Save the transformed data to a JSONL file\n",
    "def save_data(file_path, data):\n",
    "    \"\"\"Save data to a JSONL file.\"\"\"\n",
    "    with open(file_path, \"w\") as f:\n",
    "        for entry in data:\n",
    "            f.write(json.dumps(entry) + \"\\n\")\n",
    "\n",
    "# Main process\n",
    "def main():\n",
    "    # Load and transform data\n",
    "    data = load_data(input_file)\n",
    "    transformed_data = transform_negotiations(data)\n",
    "\n",
    "    # Save to the output file\n",
    "    save_data(output_file, transformed_data)\n",
    "\n",
    "    print(f\"Transformed data saved to {output_file}\")\n",
    "\n",
    "# Run the script\n",
    "main()\n"
   ]
  },
  {
   "cell_type": "code",
   "execution_count": null,
   "id": "7282e82d-3e51-43ac-b48b-9d4f445b3a97",
   "metadata": {},
   "outputs": [],
   "source": [
    "#### THE ONE THAT HAS CONVERSATION id\n"
   ]
  },
  {
   "cell_type": "code",
   "execution_count": 54,
   "id": "67434c86-8d2f-4260-a70a-73967af9562b",
   "metadata": {
    "tags": []
   },
   "outputs": [
    {
     "name": "stdout",
     "output_type": "stream",
     "text": [
      "Transformed data saved to negotiation_dataopenai.jsonl\n"
     ]
    }
   ],
   "source": [
    "import json\n",
    "\n",
    "# Input and output file paths\n",
    "input_file = \"negotiation_chats_selfplay_10.jsonl\"  # Replace with your input file name\n",
    "output_file = \"negotiation_dataopenai.jsonl\"\n",
    "\n",
    "# Define a system message\n",
    "system_message = {\"role\": \"system\", \"content\": \"This is a negotiation chatbot designed to assist in salary discussions.\"}\n",
    "\n",
    "# Load the JSONL file\n",
    "def load_data(file_path):\n",
    "    \"\"\"Load data from a JSONL file.\"\"\"\n",
    "    with open(file_path, \"r\") as f:\n",
    "        return [json.loads(line.strip()) for line in f]\n",
    "\n",
    "# Transform negotiations into messages format\n",
    "def transform_negotiations(data):\n",
    "    \"\"\"Transform negotiation data into the 'messages' structure.\"\"\"\n",
    "    transformed_data = []\n",
    "    for entry in data:\n",
    "        try:\n",
    "            negotiation = entry[\"Negotiation\"]\n",
    "            messages = [system_message]  # Start with the system message\n",
    "            \n",
    "            # Add all negotiation messages\n",
    "            for message in negotiation:\n",
    "                role = \"user\" if message[\"role\"] == \"Employee\" else \"assistant\"\n",
    "                messages.append({\"role\": role, \"content\": message[\"content\"].strip()})\n",
    "            \n",
    "            transformed_data.append({\"messages\": messages})\n",
    "        except KeyError as e:\n",
    "            print(f\"Skipping entry due to missing key: {e}\")\n",
    "    return transformed_data\n",
    "\n",
    "# Save the transformed data to a JSONL file\n",
    "def save_data(file_path, data):\n",
    "    \"\"\"Save data to a JSONL file.\"\"\"\n",
    "    with open(file_path, \"w\") as f:\n",
    "        for entry in data:\n",
    "            f.write(json.dumps(entry) + \"\\n\")\n",
    "\n",
    "# Main process\n",
    "def main():\n",
    "    # Load and transform data\n",
    "    data = load_data(input_file)\n",
    "    transformed_data = transform_negotiations(data)\n",
    "\n",
    "    # Save to output file\n",
    "    save_data(output_file, transformed_data)\n",
    "\n",
    "    print(f\"Transformed data saved to {output_file}\")\n",
    "\n",
    "# Run the script\n",
    "main()\n",
    "\n"
   ]
  },
  {
   "cell_type": "code",
   "execution_count": null,
   "id": "2ec3bdf1-1e4d-4cb7-83d4-ae6d821361af",
   "metadata": {},
   "outputs": [],
   "source": []
  }
 ],
 "metadata": {
  "kernelspec": {
   "display_name": "Python 3 (ipykernel)",
   "language": "python",
   "name": "python3"
  },
  "language_info": {
   "codemirror_mode": {
    "name": "ipython",
    "version": 3
   },
   "file_extension": ".py",
   "mimetype": "text/x-python",
   "name": "python",
   "nbconvert_exporter": "python",
   "pygments_lexer": "ipython3",
   "version": "3.11.5"
  }
 },
 "nbformat": 4,
 "nbformat_minor": 5
}
