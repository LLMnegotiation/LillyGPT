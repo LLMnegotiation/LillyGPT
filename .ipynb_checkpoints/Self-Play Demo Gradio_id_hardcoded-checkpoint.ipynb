{
 "cells": [
  {
   "cell_type": "markdown",
   "id": "b5c1203e-ea56-4160-9436-f29980a39a19",
   "metadata": {},
   "source": [
    "#Sources\n",
    "- Chat Bubbles CSS\n",
    "    - https://chatableapps.com/technology/coding-css-chat-bubbles-a-step-by-step-guide-to-creating-stylish-chat-interfaces/\n",
    "- generators\n",
    "    - https://docs.python.org/3/tutorial/classes.html\n",
    "- gradio\n",
    "    - https://www.machinelearningnuggets.com/gradio-tutorial/\n",
    "- html\n",
    "    - https://borstch.com/snippet/negotiation-simulation-game"
   ]
  },
  {
   "cell_type": "code",
   "execution_count": 9,
   "id": "ff59dfa7-9671-4f9b-ad27-9354628430cc",
   "metadata": {
    "tags": []
   },
   "outputs": [
    {
     "name": "stdout",
     "output_type": "stream",
     "text": [
      "* Running on local URL:  http://127.0.0.1:7861\n",
      "\n",
      "To create a public link, set `share=True` in `launch()`.\n"
     ]
    },
    {
     "data": {
      "text/html": [
       "<div><iframe src=\"http://127.0.0.1:7861/\" width=\"100%\" height=\"500\" allow=\"autoplay; camera; microphone; clipboard-read; clipboard-write;\" frameborder=\"0\" allowfullscreen></iframe></div>"
      ],
      "text/plain": [
       "<IPython.core.display.HTML object>"
      ]
     },
     "metadata": {},
     "output_type": "display_data"
    },
    {
     "data": {
      "text/plain": []
     },
     "execution_count": 9,
     "metadata": {},
     "output_type": "execute_result"
    }
   ],
   "source": [
    "import gradio as gr\n",
    "import json\n",
    "import time\n",
    "import os\n",
    "\n",
    "#load the file and get the simulations\n",
    "def load_conversations(file_path):\n",
    "    \"\"\"Load JSONL-formatted conversations from file_path.\"\"\"\n",
    "    if not os.path.exists(file_path):\n",
    "        raise FileNotFoundError(f\"The file {file_path} does not exist.\")\n",
    "    conversations = []\n",
    "    with open(file_path, 'r', encoding='utf-8') as f:\n",
    "        for line in f:\n",
    "            conversations.append(json.loads(line))\n",
    "    return conversations\n",
    "\n",
    "#JSONL file\n",
    "negotiation_chat_file = \"negotiation_chats_selfplay (1).jsonl\"\n",
    "conversations = load_conversations(negotiation_chat_file)\n",
    "\n",
    "conversation_id = \"4e229c40-bcae-4efc-8c3f-2032034210a5\"  #Enter conversation ID we want to show \n",
    "chat_delay = 4.0  #Adjustable delay\n",
    "\n",
    "\n",
    "\n",
    "\n",
    "#retrieve the negotiation by the ID\n",
    "def get_conversation_by_id(convo_id):\n",
    "    \"\"\"Return the list of chats for a given conversation ID.\"\"\"\n",
    "    for convo in conversations:\n",
    "        if convo.get('ConversationID') == convo_id:\n",
    "            return convo.get('Negotiation', [])\n",
    "    return []\n",
    "\n",
    "\n",
    "#runs the selected negotiation/simulation of self play\n",
    "def simulate_conversation():\n",
    "    \"\"\"\n",
    "    Simulate the conversation for the fixed conversation_id, \n",
    "    yielding updates after each message.\n",
    "    \"\"\"\n",
    "    messages = get_conversation_by_id(conversation_id)\n",
    "    if not messages:\n",
    "        yield \"<div>No conversation found with the given Conversation ID.</div>\"\n",
    "        return\n",
    "\n",
    "    chat_html = \"\"\n",
    "    for msg in messages:\n",
    "        #Create message bubbles\n",
    "        if msg['role'] == \"Employee\":\n",
    "            chat_html += f\"\"\"\n",
    "            <div style=\"text-align: left; margin: 10px;\">\n",
    "                <div style=\"display: inline-block; padding: 10px; border-radius: 10px; \n",
    "                            background-color: #d1f4ff; max-width: 60%; font-size: 14px;\">\n",
    "                    <b>{msg['role']}</b>: {msg['content']}\n",
    "                </div>\n",
    "            </div>\n",
    "            \"\"\"\n",
    "        elif msg['role'] == \"HR Manager\":\n",
    "            chat_html += f\"\"\"\n",
    "            <div style=\"text-align: right; margin: 10px;\">\n",
    "                <div style=\"display: inline-block; padding: 10px; border-radius: 10px; \n",
    "                            background-color: #e6ffe6; max-width: 60%; font-size: 14px;\">\n",
    "                    <b>{msg['role']}</b>: {msg['content']}\n",
    "                </div>\n",
    "            </div>\n",
    "            \"\"\"\n",
    "\n",
    "        #Yield the updated chat state to the UI\n",
    "        yield gr.update(value=chat_html)\n",
    "        time.sleep(chat_delay)\n",
    "\n",
    "    #After all messages have been displayed, show simulation has ened \n",
    "    chat_html += \"\"\"\n",
    "    <div style=\"text-align: center; margin: 20px; font-size: 14px;\">\n",
    "        Negotiation simulation ended.\n",
    "    </div>\n",
    "    \"\"\"\n",
    "    yield gr.update(value=chat_html)\n",
    "\n",
    "#Gradio UI\n",
    "with gr.Blocks() as demo:\n",
    "    gr.Markdown(\"## Self-Play Negotiation Simulation Demo\")\n",
    "    gr.Markdown(\"Click 'Start Simulation' to begin the simulation.\")\n",
    "    \n",
    "    start_button = gr.Button(\"Start Simulation\")\n",
    "    output_box = gr.HTML(label=\"Live Chat Simulation\")\n",
    "\n",
    "    #Trigger live conversation simulation\n",
    "    start_button.click(simulate_conversation, inputs=None, outputs=output_box)\n",
    "\n",
    "#Launch the Gradio interface\n",
    "demo.launch()"
   ]
  },
  {
   "cell_type": "code",
   "execution_count": null,
   "id": "f8845cff-7981-482c-ba3f-d5c5132301a9",
   "metadata": {},
   "outputs": [],
   "source": []
  }
 ],
 "metadata": {
  "kernelspec": {
   "display_name": "Python 3 (ipykernel)",
   "language": "python",
   "name": "python3"
  },
  "language_info": {
   "codemirror_mode": {
    "name": "ipython",
    "version": 3
   },
   "file_extension": ".py",
   "mimetype": "text/x-python",
   "name": "python",
   "nbconvert_exporter": "python",
   "pygments_lexer": "ipython3",
   "version": "3.11.5"
  }
 },
 "nbformat": 4,
 "nbformat_minor": 5
}
